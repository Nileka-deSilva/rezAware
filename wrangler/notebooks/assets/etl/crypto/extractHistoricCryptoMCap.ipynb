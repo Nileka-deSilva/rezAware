{
 "cells": [
  {
   "cell_type": "markdown",
   "id": "72dbb7dd",
   "metadata": {},
   "source": [
    "# Exctract Historic Market Cap data\n",
    "* [Coingecko python code](https://github.com/man-c/pycoingecko)"
   ]
  },
  {
   "cell_type": "code",
   "execution_count": 32,
   "id": "20d8f07e",
   "metadata": {},
   "outputs": [],
   "source": [
    "'''\n",
    "    WARNING CONTROL to display or ignore all warnings\n",
    "'''\n",
    "import warnings; warnings.simplefilter('ignore')     #switch betweeb 'default' and 'ignore'\n",
    "import traceback\n",
    "\n",
    "''' Set debug flag to view extended error messages; else set it to False to turn off debugging mode '''\n",
    "debug = True"
   ]
  },
  {
   "cell_type": "markdown",
   "id": "f13e7aeb",
   "metadata": {},
   "source": [
    "## Initialize classes"
   ]
  },
  {
   "cell_type": "code",
   "execution_count": 42,
   "id": "c0b673c0",
   "metadata": {},
   "outputs": [
    {
     "name": "stdout",
     "output_type": "stream",
     "text": [
      "All functional APP-libraries in REZAWARE-package of REZAWARE-module imported successfully!\n",
      "All assets-module etl-packages in function-CryptoMarket imported successfully!\n",
      "All functional SPARKNOSQLWLS-libraries in LOAD-package of ETL-module imported successfully!\n",
      "sparkNoSQLwls Class initialization complete\n",
      "sparkNoSQLwls Class initialization complete\n",
      "CryptoMarket Class initialization complete\n",
      "\n",
      "Class initialization and load complete!\n"
     ]
    }
   ],
   "source": [
    "import os\n",
    "import sys\n",
    "import configparser\n",
    "from datetime import datetime, date, timedelta\n",
    "\n",
    "sys.path.insert(1,\"/home/nuwan/workspace/rezaware/\")\n",
    "import rezaware as reza\n",
    "from wrangler.modules.assets.etl import cryptoMCExtractor as crypto\n",
    "# from utils.modules.etl.load import noSQLwls as nosql\n",
    "from utils.modules.etl.load import sparkNoSQLwls as nosql\n",
    "\n",
    "''' restart initiate classes '''\n",
    "if debug:\n",
    "    import importlib\n",
    "    reza = importlib.reload(reza)\n",
    "    crypto = importlib.reload(crypto)\n",
    "    nosql = importlib.reload(nosql)\n",
    "\n",
    "clsNoSQL = nosql.NoSQLWorkLoads(desc=\"get crypto macket capitalization data\")\n",
    "''' optional - if not specified class will use the default values '''\n",
    "prop_kwargs = {\"WRITE_TO_TMP\":True,   # necessary to emulate the etl dag\n",
    "              }\n",
    "clsMC = crypto.CryptoMarkets(\n",
    "    desc='get crypto macket capitalization data', **prop_kwargs)\n",
    "print(\"\\nClass initialization and load complete!\")"
   ]
  },
  {
   "cell_type": "markdown",
   "id": "51b88589",
   "metadata": {},
   "source": [
    "## Read catalog data\n",
    "* Distinct API categories: \"asset.metadata\", \"historic.prices\", \"latest.prices\""
   ]
  },
  {
   "cell_type": "code",
   "execution_count": 41,
   "id": "a2125062",
   "metadata": {
    "scrolled": true
   },
   "outputs": [
    {
     "name": "stdout",
     "output_type": "stream",
     "text": [
      "[\n",
      "  {\n",
      "    \"_id\": {\n",
      "      \"$oid\": \"638740c7d8ab1a48899beddc\"\n",
      "    },\n",
      "    \"source\": \"coingecko\",\n",
      "    \"name\": \"ArenaPlay\",\n",
      "    \"symbol\": \"apc\",\n",
      "    \"lastupdated\": {\n",
      "      \"$date\": \"2022-12-01T12:12:24.350Z\"\n",
      "    },\n",
      "    \"asset.id\": \"arenaplay\",\n",
      "    \"asset.isactive\": null,\n",
      "    \"asset.tokenaddress\": null,\n",
      "    \"asset.platforms\": {\n",
      "      \"binance-smart-chain\": \"0x2aa504586d6cab3c59fa629f74c586d78b93a025\"\n",
      "    },\n",
      "    \"asset\": {\n",
      "      \"id\": \"arenaplay\",\n",
      "      \"isactive\": -1.0,\n",
      "      \"platforms\": null,\n",
      "      \"tokenaddress\": null,\n",
      "      \"type\": \"altcoin\"\n",
      "    }\n",
      "  }\n",
      "]\n"
     ]
    }
   ],
   "source": [
    "from datetime import datetime\n",
    "from bson.json_util import dumps\n",
    "\n",
    "__now_dt__ = str(datetime.utcnow().isoformat())\n",
    "__as_type__ = 'dict'\n",
    "__database__ = \"tip-asset-metadata\"\n",
    "__collection__ = \"coingecko.asset.list\"\n",
    "__find__ = {\"asset.id\":{\"$in\":['arenaplay']},\n",
    "             \"source\":{\"$eq\":\"coingecko\"},\n",
    "           }\n",
    "\n",
    "clsNoSQL.connect={'DBAUTHSOURCE':__database__}\n",
    "_data = clsNoSQL.read_documents(\n",
    "    as_type=__as_type__,\n",
    "    db_name = __database__,\n",
    "    db_coll=__collection__,\n",
    "    doc_find=__find__\n",
    ")\n",
    "print(dumps(_data, indent=2))"
   ]
  },
  {
   "cell_type": "markdown",
   "id": "305e6a05",
   "metadata": {},
   "source": [
    "## Extract Historic Marketcap"
   ]
  },
  {
   "cell_type": "code",
   "execution_count": 43,
   "id": "430622bb",
   "metadata": {
    "scrolled": true
   },
   "outputs": [
    {
     "name": "stdout",
     "output_type": "stream",
     "text": [
      "Process completed with 1 historic extractions\n"
     ]
    }
   ],
   "source": [
    "import time\n",
    "\n",
    "_data_owner='coingecko'\n",
    "# kwargs = {}\n",
    "\n",
    "kwargs = {\"ASSETS\":[\n",
    "    {\n",
    "    \"_id\": {\n",
    "      \"$oid\": \"638740c7d8ab1a48899bf0a5\"\n",
    "    },\n",
    "    \"source\": \"coingecko\",\n",
    "    \"name\": \"Bitcoin\",\n",
    "    \"symbol\": \"btc\",\n",
    "    \"lastupdated\": {\n",
    "      \"$date\": \"2022-11-30T19:43:19.855Z\"\n",
    "    },\n",
    "    \"asset.id\": \"bitcoin\",\n",
    "    \"asset.isactive\": 0,\n",
    "    \"asset.tokenaddress\": '',\n",
    "    \"asset.platforms\": {},\n",
    "    \"asset\": {\n",
    "      \"id\": \"bitcoin\",\n",
    "      \"isactive\": 1.0,\n",
    "      \"platforms\": {},\n",
    "      \"tokenaddress\": ''\n",
    "    }\n",
    "  }]\n",
    "         }\n",
    "\n",
    "_from_dt=date(2022,8,1)\n",
    "_to_dt=date(2022,8,31)\n",
    "\n",
    "_results=None\n",
    "_results, _failed = clsMC.extract_historic_mcap(\n",
    "    data_owner=_data_owner,\n",
    "    from_date = _from_dt,\n",
    "    to_date = _to_dt,\n",
    "    **kwargs,\n",
    ")\n",
    "if _results is None:\n",
    "    print(\"No results but process completed\")\n",
    "else:\n",
    "    print(\"Process completed with %d historic extractions\" %len(_results))"
   ]
  },
  {
   "cell_type": "code",
   "execution_count": 35,
   "id": "15fe2815",
   "metadata": {},
   "outputs": [
    {
     "name": "stdout",
     "output_type": "stream",
     "text": [
      "['arenaplay', 'argo-finance', 'argonon-helium', 'bacon-coin', 'balloonsville-air', 'beta-token', 'bitcoin-asset-2', 'bitcoin-free-cash', 'bitmon', 'block-forest', 'bns-token', 'bombcrypto-coin', 'bone-2', 'bounty', 'build', 'bullet-2', 'b-watch-box', 'capricorn', 'chi-coin', 'connect-token', 'crossx', 'cryptounit', 'crypto-vault', 'd-drops', 'dracoomaster', 'dragonmaster-token', 'everstart', 'galaxy-finance', 'giresunspor-token', 'graviton', 'greenhouse', 'landboard', 'memeverse', 'moonrock-v2', 'scholarship-coin', 'stepwatch', 'trivian', 'visiongame']\n"
     ]
    }
   ],
   "source": [
    "import re\n",
    "logpath = os.path.join(\"/home/nuwan/workspace/rezaware/\",\n",
    "                     \"wrangler/logs/assets/etl/app.log\")\n",
    "with open(logpath,'r') as f:\n",
    "    symbol_list=[]\n",
    "    for line in f:\n",
    "        if line.startswith(\"[WARNING]\"):\n",
    "            m = re.search(\"etl - (.+?) marketcap\", line)\n",
    "            if m:\n",
    "                found = m.group(1)\n",
    "                symbol_list.append(found.replace(\"'\",\"\"))\n",
    "print(symbol_list)"
   ]
  },
  {
   "cell_type": "code",
   "execution_count": 35,
   "id": "b46f06e6",
   "metadata": {},
   "outputs": [
    {
     "name": "stdout",
     "output_type": "stream",
     "text": [
      "['KONGZ', 'MZ', 'SYL', 'GAIA', 'SYL', 'BOMUL', 'MIYA', 'SYL', 'SW', 'GAIA', 'BELLYGOM', 'SNKRZ', 'etnah', 'MTDZ', 'DOD', 'Puuvilla', 'GAIA', 'SWC', 'kongz', 'MATE', 'K3K', 'COGO', 'UKKIKKI', 'ArcheWorld_Land', 'SMILEMIYA', 'KDGE', 'VGN', 'TREASURES', 'ArcheWorld_FandomCard', 'SE7EN', 'HT', 'MTM', 'DHB', 'RBL', 'CELPI', 'GAIA', 'GRA', 'chikn', 'BIRDIE CC', 'NRS', 'KROCK', 'LCV1', 'MTG', 'APB', 'BUMZ', 'AOZHEROES', 'KLND', 'TXP', 'FOOTAGE', 'LPV1', 'KLTW', 'UKIDS', 'CT', 'PXL', 'LEMONG 3D', 'BIRDIE', 'bayc', 'SGS', 'PUNK', 'TPC', 'larva', 'KING-KINGS', 'SNKRZ OPEN BOX', '7', 'Puuvillafriends', 'NAC', 'Born Kongz', 'WTBL', 'BK', 'DMONG', 'MEE', 'LIITA', 'DUK', 'KENOME', 'KRBC', 'ROAZ', 'EMATES', 'MAC', 'KLAPES', 'MTDZPET', 'CYECV0', 'EV', 'PG', 'psd', 'CATTP', 'Roostr', 'DHBSRP', 'TMH', 'HDEC75', 'GTU', 'SLIME', 'MAYC', 'MT', 'CMPZPFP', 'RDK', 'ALAP', 'STORKS', 'KONGZ', 'BUMZ', 'MA']\n"
     ]
    }
   ],
   "source": [
    "import json\n",
    "\n",
    "logpath = os.path.join(\"/home/nuwan/workspace/rezaware/\",\n",
    "                     \"wrangler/notebooks/assets/etl/crypto/nft_list.json\")\n",
    "nft_dict=[]\n",
    "with open(logpath,'r') as f:\n",
    "    nft_list = json.load(f)\n",
    "nft_symb_list = [x['symbol'] for x in nft_list]\n",
    "print(nft_symb_list)"
   ]
  },
  {
   "cell_type": "code",
   "execution_count": 49,
   "id": "42f78198",
   "metadata": {},
   "outputs": [
    {
     "name": "stdout",
     "output_type": "stream",
     "text": [
      "['coingecko.2022-01-01.wbtc', 'coingecko.2022-07-01.obt', 'coingecko.2022-07-01.btcmt', 'coingecko.2022-04-01.nsbt', 'coingecko.2022-01-01.nsbt', 'coingecko.2022-07-01.btc2', 'coingecko.2022-01-01.bto', 'coingecko.2022-07-01.ibbtc', 'coingecko.2022-01-01.btcred', 'coingecko.2022-01-01.btse', 'coingecko.2022-01-01.btcz', 'coingecko.2022-07-01.btrfly', 'coingecko.2022-01-01.btc', 'coingecko.2022-04-01.btg', 'coingecko.2022-04-01.renbtc', 'coingecko.2022-01-01.btu', 'coingecko.2022-04-01.btx', 'coingecko.2022-04-01.btl', 'coingecko.2022-07-01.wbtc', 'coingecko.2022-04-01.obtc', 'coingecko.2022-07-01.btnt', 'coingecko.2022-07-01.xbtx', 'coingecko.2022-01-01.btcp', 'coingecko.2022-04-01.wbtc', 'coingecko.2022-01-01.hbtc', 'coingecko.2022-07-01.btc', 'coingecko.2022-04-01.xbtx', 'coingecko.2022-01-01.hbt', 'coingecko.2022-04-01.0xbtc', 'coingecko.2022-07-01.btc2x-fli', 'coingecko.2022-01-01.obt', 'coingecko.2022-01-01.yfbt', 'coingecko.2022-07-01.btb', 'coingecko.2022-07-01.btcst', 'coingecko.2022-04-01.btr', 'coingecko.2022-01-01.btg', 'coingecko.2022-07-01.nsbt', 'coingecko.2022-01-01.obtc', 'coingecko.2022-04-01.btcst', 'coingecko.2022-07-01.obtc', 'coingecko.2022-07-01.hbt', 'coingecko.2022-07-01.bta', 'coingecko.2022-04-01.ibbtc', 'coingecko.2022-01-01.btx', 'coingecko.2022-01-01.bts', 'coingecko.2022-07-01.btcz', 'coingecko.2022-04-01.bta', 'coingecko.2022-07-01.btr', 'coingecko.2022-01-01.albt', 'coingecko.2022-04-01.bto', 'coingecko.2022-01-01.btcs', 'coingecko.2022-01-01.bta', 'coingecko.2022-07-01.btc2x-fli-p', 'coingecko.2022-07-01.tbtc', 'coingecko.2022-04-01.btc', 'coingecko.2022-04-01.btu', 'coingecko.2022-04-01.btt', 'coingecko.2022-07-01.iwbtc', 'coingecko.2022-01-01.abt', 'coingecko.2022-01-01.btcone', 'coingecko.2022-04-01.btm', 'coingecko.2022-04-01.btcone', 'coingecko.2022-07-01.btcs', 'coingecko.2022-07-01.yfbt', 'coingecko.2022-07-01.btg', 'coingecko.2022-07-01.sbtc', 'coingecko.2022-04-01.nbt', 'coingecko.2022-01-01.ubt', 'coingecko.2022-07-01.btu', 'coingecko.2022-01-01.pbtc35a', 'coingecko.2022-04-01.btcred', 'coingecko.2022-07-01.btm', 'coingecko.2022-07-01.btsg', 'coingecko.2022-07-01.btcred', 'coingecko.2022-04-01.albt', 'coingecko.2022-01-01.btb', 'coingecko.2022-01-01.0xbtc', 'coingecko.2022-07-01.rbt', 'coingecko.2022-04-01.btb', 'coingecko.2022-07-01.btl', 'coingecko.2022-07-01.btcp', 'coingecko.2022-07-01.albt', 'coingecko.2022-04-01.btsg', 'coingecko.2022-07-01.bto', 'coingecko.2022-01-01.btm', 'coingecko.2022-07-01.renbtc', 'coingecko.2022-07-01.abt', 'coingecko.2022-07-01.pbtc35a', 'coingecko.2022-01-01.btc++', 'coingecko.2022-07-01.nbt', 'coingecko.2022-01-01.cwbtc', 'coingecko.2022-04-01.cwbtc', 'coingecko.2022-07-01.bts', 'coingecko.2022-07-01.0xbtc', 'coingecko.2022-04-01.btcp', 'coingecko.2022-04-01.btcmt', 'coingecko.2022-04-01.btcs', 'coingecko.2022-04-01.pbtc35a', 'coingecko.2022-04-01.obt', 'coingecko.2022-07-01.btc++', 'coingecko.2022-07-01.bkbt', 'coingecko.2022-01-01.renbtc', 'coingecko.2022-07-01.btse', 'coingecko.2022-07-01.btt', 'coingecko.2022-07-01.ibtc-fli-p', 'coingecko.2022-01-01.btc2', 'coingecko.2022-04-01.hbt', 'coingecko.2022-01-01.btcst', 'coingecko.2022-04-01.btc2', 'coingecko.2022-04-01.btc++', 'coingecko.2022-04-01.bkbt', 'coingecko.2022-07-01.ubt', 'coingecko.2022-07-01.btw', 'coingecko.2022-07-01.pbtc', 'coingecko.2022-04-01.btse', 'coingecko.2022-04-01.abt', 'coingecko.2022-07-01.hbtc', 'coingecko.2022-01-01.ibbtc', 'coingecko.2022-01-01.btl', 'coingecko.2022-07-01.btcone', 'coingecko.2022-07-01.cwbtc', 'coingecko.2022-04-01.bts', 'coingecko.2022-01-01.btc2x-fli', 'coingecko.2022-04-01.btc2x-fli', 'coingecko.2022-04-01.btw', 'coingecko.2022-01-01.xbtx', 'coingecko.2022-04-01.ubt', 'coingecko.2022-01-01.bkbt', 'coingecko.2022-04-01.btcz', 'coingecko.2022-04-01.yfbt', 'coingecko.2022-01-01.btw', 'coingecko.2022-07-01.qbt', 'coingecko.2022-04-01.btnt', 'coingecko.2022-07-01.btx', 'coingecko.2022-04-01.hbtc', 'coingecko.2022-01-01.btcmt']\n"
     ]
    }
   ],
   "source": [
    "clsNoSQL.dbType = 'mongodb'\n",
    "clsNoSQL.dbName = 'tip-historic-marketcap'\n",
    "clsNoSQL.collections = {\"HASINNAME\":'btc'}\n",
    "print(clsNoSQL.collections)"
   ]
  },
  {
   "cell_type": "code",
   "execution_count": null,
   "id": "33eda850",
   "metadata": {},
   "outputs": [],
   "source": []
  }
 ],
 "metadata": {
  "kernelspec": {
   "display_name": "Python 3 (ipykernel)",
   "language": "python",
   "name": "python3"
  },
  "language_info": {
   "codemirror_mode": {
    "name": "ipython",
    "version": 3
   },
   "file_extension": ".py",
   "mimetype": "text/x-python",
   "name": "python",
   "nbconvert_exporter": "python",
   "pygments_lexer": "ipython3",
   "version": "3.8.10"
  }
 },
 "nbformat": 4,
 "nbformat_minor": 5
}
