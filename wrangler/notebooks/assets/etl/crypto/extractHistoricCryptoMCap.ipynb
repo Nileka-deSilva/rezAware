{
 "cells": [
  {
   "cell_type": "markdown",
   "id": "72dbb7dd",
   "metadata": {},
   "source": [
    "# Exctract Historic Market Cap data\n",
    "* [Coingecko python code](https://github.com/man-c/pycoingecko)"
   ]
  },
  {
   "cell_type": "code",
   "execution_count": 1,
   "id": "20d8f07e",
   "metadata": {},
   "outputs": [],
   "source": [
    "'''\n",
    "    WARNING CONTROL to display or ignore all warnings\n",
    "'''\n",
    "import warnings; warnings.simplefilter('ignore')     #switch betweeb 'default' and 'ignore'\n",
    "import traceback\n",
    "\n",
    "''' Set debug flag to view extended error messages; else set it to False to turn off debugging mode '''\n",
    "debug = True"
   ]
  },
  {
   "cell_type": "markdown",
   "id": "f13e7aeb",
   "metadata": {},
   "source": [
    "## Initialize classes"
   ]
  },
  {
   "cell_type": "code",
   "execution_count": 19,
   "id": "c0b673c0",
   "metadata": {},
   "outputs": [
    {
     "name": "stdout",
     "output_type": "stream",
     "text": [
      "All functional APP-libraries in REZAWARE-package of REZAWARE-module imported successfully!\n",
      "All assets-module etl-packages in function-CryptoMarket imported successfully!\n",
      "All functional SPARKNOSQLWLS-libraries in LOADER-package of ETL-module imported successfully!\n",
      "sparkNoSQLwls Class initialization complete\n",
      "sparkNoSQLwls Class initialization complete\n",
      "FileWorkLoads Class initialization complete\n",
      "CryptoMarket Class initialization complete\n",
      "\n",
      "Class initialization and load complete!\n"
     ]
    }
   ],
   "source": [
    "import os\n",
    "import sys\n",
    "import configparser\n",
    "from datetime import datetime, date, timedelta\n",
    "\n",
    "sys.path.insert(1,\"/home/nuwan/workspace/rezaware/\")\n",
    "import rezaware as reza\n",
    "from wrangler.modules.assets.etl import cryptoMCExtractor as crypto\n",
    "# from utils.modules.etl.load import noSQLwls as nosql\n",
    "from utils.modules.etl.loader import sparkNoSQLwls as nosql\n",
    "\n",
    "''' restart initiate classes '''\n",
    "if debug:\n",
    "    import importlib\n",
    "    reza = importlib.reload(reza)\n",
    "    crypto = importlib.reload(crypto)\n",
    "    nosql = importlib.reload(nosql)\n",
    "\n",
    "clsNoSQL = nosql.NoSQLWorkLoads(desc=\"get crypto macket capitalization data\")\n",
    "''' optional - if not specified class will use the default values '''\n",
    "prop_kwargs = {\"WRITE_TO_TMP\":True,   # necessary to emulate the etl dag\n",
    "              }\n",
    "clsMC = crypto.CryptoMarkets(\n",
    "    desc='get crypto macket capitalization data', **prop_kwargs)\n",
    "print(\"\\nClass initialization and load complete!\")"
   ]
  },
  {
   "cell_type": "markdown",
   "id": "51b88589",
   "metadata": {},
   "source": [
    "## Read catalog data\n",
    "* Distinct API categories: \"asset.metadata\", \"historic.prices\", \"latest.prices\""
   ]
  },
  {
   "cell_type": "code",
   "execution_count": 32,
   "id": "a2125062",
   "metadata": {
    "scrolled": true
   },
   "outputs": [
    {
     "name": "stdout",
     "output_type": "stream",
     "text": [
      "3772\n"
     ]
    }
   ],
   "source": [
    "from datetime import datetime\n",
    "from bson.json_util import dumps\n",
    "\n",
    "__now_dt__ = str(datetime.utcnow().isoformat())\n",
    "__as_type__ = 'dict'\n",
    "__database__ = \"tip-asset-metadata\"\n",
    "# __database__ = \"tip-historic-marketcap\"\n",
    "__collection__ = \"coingecko.asset.list\"\n",
    "# __collection__ = []\n",
    "__find__={}\n",
    "# __find__ = {\"asset.id\":{\"$in\":['zupi-coin', 'zuplo', 'zuz-protocol']},\n",
    "#              \"source\":{\"$eq\":\"coingecko\"},\n",
    "#            }\n",
    "__find__ = {\"asset.isactive\": 1.0}\n",
    "_kwargs={}\n",
    "# _kwargs = {\n",
    "#     \"HASINNAME\" : ['coingecko','2023-03-01'],\n",
    "# }\n",
    "\n",
    "clsNoSQL.connect={'DBAUTHSOURCE':__database__}\n",
    "_data = clsNoSQL.read_documents(\n",
    "    as_type=__as_type__,\n",
    "    db_name = __database__,\n",
    "    db_coll=__collection__,\n",
    "    doc_find=__find__,\n",
    "    **_kwargs\n",
    ")\n",
    "\n",
    "# print(dumps(_data[0:3], indent=2))\n",
    "print(len(_data))"
   ]
  },
  {
   "cell_type": "markdown",
   "id": "305e6a05",
   "metadata": {},
   "source": [
    "## Extract Historic Marketcap"
   ]
  },
  {
   "cell_type": "code",
   "execution_count": 20,
   "id": "430622bb",
   "metadata": {
    "scrolled": true
   },
   "outputs": [
    {
     "name": "stdout",
     "output_type": "stream",
     "text": [
      "Please wait a moment to extract data from 2023-03-01 to 2023-03-31 ...\n",
      "Process completed with 3379 historic extractions\n"
     ]
    }
   ],
   "source": [
    "import time\n",
    "\n",
    "_data_owner='coingecko'\n",
    "kwargs = {}\n",
    "\n",
    "# kwargs = {\"ASSETS\":[\n",
    "#     {\n",
    "#     \"_id\": {\n",
    "#       \"$oid\": \"638740c7d8ab1a48899bf0a5\"\n",
    "#     },\n",
    "#     \"source\": \"coingecko\",\n",
    "#     \"name\": \"Bitcoin\",\n",
    "#     \"symbol\": \"btc\",\n",
    "#     \"lastupdated\": {\n",
    "#       \"$date\": \"2022-11-30T19:43:19.855Z\"\n",
    "#     },\n",
    "#     \"asset.id\": \"bitcoin\",\n",
    "#     \"asset.isactive\": 0,\n",
    "#     \"asset.tokenaddress\": '',\n",
    "#     \"asset.platforms\": {},\n",
    "#     \"asset\": {\n",
    "#       \"id\": \"bitcoin\",\n",
    "#       \"isactive\": 1.0,\n",
    "#       \"platforms\": {},\n",
    "#       \"tokenaddress\": ''\n",
    "#     }\n",
    "#     }]\n",
    "#          }\n",
    "\n",
    "_from_dt=date(2023,3,1)\n",
    "_to_dt=date(2023,3,31)\n",
    "\n",
    "print(\"Please wait a moment to extract data from %s to %s ...\"\n",
    "      %(datetime.strftime(_from_dt,'%Y-%m-%d'),\n",
    "        datetime.strftime(_to_dt,'%Y-%m-%d')))\n",
    "_results=None\n",
    "_results, _failed = clsMC.extract_historic_mcap(\n",
    "    data_owner=_data_owner,\n",
    "    from_date = _from_dt,\n",
    "    to_date = _to_dt,\n",
    "    **kwargs,\n",
    ")\n",
    "if _results is None:\n",
    "    print(\"No results but process completed\")\n",
    "else:\n",
    "    print(\"Process completed with %d historic extractions\" %len(_results))"
   ]
  },
  {
   "cell_type": "code",
   "execution_count": 27,
   "id": "15fe2815",
   "metadata": {
    "scrolled": false
   },
   "outputs": [
    {
     "name": "stdout",
     "output_type": "stream",
     "text": [
      "['0xDAO V2', '0xTrade', '0xWallet Token', 'RealT - 14066 Santa Rosa Dr, Detroit, MI 48238', 'RealT - 1617 S Avers Ave, Chicago, IL 60623', '1BCH', '1Doge', '2044 Nuclear Apocalypse', 'RealT - 4852-4854 W Cortez St, Chicago, IL 60651', 'Abell Coin', 'Afrix', 'AGA Carbon Rewards', 'Aggregated Finance', 'Agronomist', 'Akitsuki', 'All.me', 'All Time High', 'Alpha Capital', 'AlphaCoin', 'AltSwitch', 'Amulet Staked SOL', 'AMZ Coin', 'Anarchy', 'Ankr Reward Bearing FTM', 'Ankr Reward Earning MATIC', 'AnonyDoxx', 'Answer Governance', 'Answerly', 'Antiample', 'Apedoge', 'Arkadiko', 'Arker', 'ARK Innovation ETF Defichain', 'Ark Rivals', 'Army Node Finance', 'Arnoya classic', 'Arowana', 'Arrow', 'ArtByte', 'Artik', 'ArtKit', 'Ascension', 'Asgardian Aereus', 'AstroBirdz', 'Astroport.fi', 'Atrollcity', 'aUSDC', 'Authencity', 'Avalanche (Wormhole)', 'AXIS', 'BabyBUSD', 'BabyFloki', 'BabyFootball', 'Baby Kishu', 'BabyKitty', 'Baby Lambo Inu', 'Baby Lovely Inu', 'Baby Moon Floki', 'Baby Pig', 'Baby Pokemoon', 'Baby Satoshi', 'Bacon Protocol Home', 'Baitcoin', 'Bankroll Extended', 'Bankroll Vault', 'Basan', 'Basketball Legends', 'battle esports coin', 'BattleForTEN', 'Bazaars', 'BeatzCoin', 'Bela Aqua', 'Belifex', 'BerylBit', 'Beshare', 'Bestay', 'Betaverse', 'BETCOIN', 'BetGosu', 'Beyondcoin', 'Big Dog Coin', 'Big Turn', 'Binance Coin (Wormhole)', 'Binance-Peg Avalanche', 'Binopoly', 'Bitcoin and Ethereum Standard', 'Bitcoin Anonymous', 'Bitcoin Asset', 'Bitcoin Free Cash', 'Bitcoin Private', 'BitcoinXGames', 'Bitgem', 'BitStake', 'Bitvote', 'BitZipp', 'BIZZCOIN', 'Blizzard Network', 'BlockBase', 'Block Forest', 'BLOCKMAX', 'Block Monsters', 'Blockius', 'Blockpass', 'BlockRock', 'BlueWizard', 'BNBTiger', 'BobaDoge', 'Boji', 'Boleld', 'BongWeedCoin', 'Boss Swap', 'BowsCoin', 'BOXCASINO', 'Boxch', 'BoxerDOGE', 'Boxer Inu', 'BSCBETS', 'Buff Shiba Inu', 'BUGG Finance', 'BunnyVerse', 'ByteNext', 'Bzzone', 'CaashCow', 'Caketools', 'CannabisCoin', 'Carboncoin', 'CargoLink', 'CAT', 'CatzCoin', 'Celery', 'CeloStarter', 'Cell ETF', 'Cheese Swap', 'Cherish', 'Chiba Inu', 'Nana', 'Chipstars', 'ChorusX', 'ChubbyAkita', 'Cino Games', 'Class Coin', 'CleanOcean', 'ClearPoll', 'Clock 24', 'CloutContracts', 'cocktailbar.finance', 'Stem Cell Coin', 'Cold Finance', 'Compound Coin', 'ConstitutionDAO (Wormhole)', 'Cordium', 'CosmicSwap', 'CoviCoin', 'COWRY', 'Crave', 'Crazy Bunny Equity', 'Creamcoin', 'Creamy', 'Puzzle Hunters', 'Creditum', 'Creds', 'Crime Gold', 'Cross-Chain BCH', 'Crunchy DAO', 'Crunchy Network', 'Cryptaur', 'CryptoBossCoin', 'Cryptokenz', 'Crypto Makers Foundation', 'CryptoMoonShots', 'Cryptonits', 'Crypto Puffs', 'CryptoPunk #7171', 'CryptoPunt', 'CryptoSkates', 'Crypto Tex', 'Crypto Vault', 'Crypto Village Accelerator', 'Crypto Volatility', 'Cryptyk', 'CyberDoge', 'CyberTronchain', 'Cyborg Apes', 'D3', 'Daefrom', 'Daikokuten Sama', 'DangerMoon', 'Dappsy', 'GreenPower', 'Day Of Defeat', 'DChess King', 'Decentraland (Wormhole)', 'Decentralized Autonomous Organization', 'Decentralized Community Investment Protocol', 'Decentralized Pirates', 'DeFi²', 'DefiConnect', 'DeFi Forge', 'Defi Franc Moneta', 'DeFi Gold', 'DeFi Hunters DAO', 'DeFi Or Die', 'STOA Network', 'Delion', 'Deliq', 'DeltaFlare', 'Derived', 'DeSpace Protocol', 'DeStorage', 'Deutsche eMark', 'Dexioprotocol V1', 'DigiDinar Token', 'Dina', 'Dingo', 'DMT', 'Doge Alliance', 'Dogezone', 'Dogger', 'Dog Landing On The Moon', 'Dogz', 'Dont Buy Inu', 'DragonMoon', 'Dragons Quick', 'Dreamr Platform', 'Dream Soccer', 'Dreamy Undersea World', 'Drive Crypto', 'DuckRocket', 'Dwagon', 'dYdX (Wormhole)', 'EagonSwap', 'EarnBUSD', 'eCeltron', 'EcoCREDIT', 'EcoG9coin', 'ECOSC', 'Egg N Partners', 'Egod The Savior', 'Elementrem', 'Elements', 'ELF Wallet', 'Elongate Deluxe', 'EloniumCoin', 'Elons Marvin', 'Endless Battlefield', 'Envion', 'Equilibrium', 'Erica Social Token', 'eSwapping v2', 'Eterland', 'EthBurn', 'Ethereum Victory', 'Ethereum Volatility Index Token', 'Ethernal Finance', 'ETHST Governance', 'EverSAFU', 'EvilSquidGame', 'Exp', 'Ezystayz', 'Fairum', 'Falafel', 'Falcon Swaps', 'Fan Tokens Football', 'FarmerCryptoCoin', 'Fast Food Wolf Game', 'FastMoon', 'FatCake', 'Fate', 'fBOMB', 'Feichang Niu', 'Festa Finance', 'FIFTYONEFIFTY', 'Film Coin', 'Final Frontier', 'FireFlame Inu', 'FiveKM KMT', 'FLETA', 'FMONEY FINANCE', 'Fnk.com', 'Folder Protocol', 'Fortune', 'FORTUNEUM', 'Frozentomb', 'FTX', 'FTX (Wormhole)', 'GameStop Finance', 'Game X Change Potion', 'GameYoo', 'Gateway Protocol', 'GENART', 'Genesis Defi', 'GFORCE', 'Gimmer', 'GlobalCoin', 'GMD Protocol', 'GO2E GTE', 'Goal Champion', 'Goal', 'GOIN', 'Goldenzone', 'GoldFarm', 'Good Bridging', 'Gorgeous', 'GrEarn', 'Greed', 'Greencoin', 'Green Energy Coin', 'Green Life Energy', 'Grove', 'Halloween Crows', 'Hamdan Coin', 'Hare', 'Harmony Token', 'Hashmasks', 'Heal The World', 'Healthify', 'Hearn.fi', 'Heart Rate', 'Heco-Peg Binance Coin', 'HERO', 'Hobonickels', 'HODL', 'HoDooi.com', 'Hoichi', 'Hokkaido Inu', 'Homeros', 'Homerun', 'Honey', 'HoneyBee', 'HoneyFarm Finance', 'HotDoge [OLD]', 'HuskyShiba', 'HyruleSwap', 'I0Coin', 'iBG Finance (BSC)', 'IceCream', 'IceCream Finance', 'Iconic ICNQ', 'Imperial Obelisk', 'Impulse By FDR', 'Infinitee', 'Infinity Game NFT', 'Infinity Protocol', 'Kardia Info', 'Innova', 'Instinct', 'Interest Bearing ETH', 'Interest Protocol USDi', 'Intersola', 'Inu Wars', 'Inverse Ethereum Volatility Index Token', 'I/O Coin', 'IPI Shorter', 'Iqoniq', 'Iron Bank CHF', 'JEDSTAR', 'Jenny DAO V2', 'JimnGalaxy', 'Joltify', 'JPEGvaultDAO', 'Kaddex', 'Kalisten', 'Kanaloa Network', 'Kanga Exchange', 'KaraStar UMY', 'Kasa Central', 'Kashhcoin', 'Keeshond', 'Kekwcoin', 'Kephi Gallery', 'KichiCoin', 'KingCorgi Chain', 'Kishutama', 'Kitsune Mask', 'Kitty', 'KittyCake', 'Kodachi Token', 'KRAUSE', 'Kryptomon', 'Kryxivia Game', 'KRYZA Network', 'KuDoge', 'Kuky Star', 'Kuro Shiba', 'Laeeb Inu ERC', 'LCMS', 'Ledgity', 'Legends Of Aria', 'Lemonn', 'Leonidasbilic', 'LHCoin', 'Light Year', 'Lilly Finance', 'LiteCoin Ultra', 'Litherium', 'LittleInu', 'Lith Token', 'LODE Token', 'Loot', 'Louvre Finance', 'Lucrosus Capital', 'Luffy', 'Luto Cash', 'Lynx', 'Lyptus', 'Machinecoin', 'Madagascar', 'MADworld', 'MAGA Coin BSC', 'Magic Beasties', 'Magic Cube Coin', 'Magic Cube Finance', 'MagicDOGE', 'Magic Elpis Gem', 'Magic Manor', 'Magic Power', 'MagicLand', 'Magik', 'MagnetGold', 'Magpie', 'Maia', 'MaidCoin', 'Main', 'Maison Capital', 'Malinka', 'Mammoth MMT', 'ManateeCoin', 'Mandala Exchange', 'Maneki-neko', 'MangaMon', 'Manna', 'ManuFactory', 'MapMetrics', 'Marble Dao', 'Marble Heroes', 'MarblePrix', 'MarhabaDeFi', 'Maria', 'Marnotaur', 'Marscoin', 'MarsColony', 'Mars Doge', 'Marshall Inu', 'Mars Inu', 'MarsRise', 'Martin Shkreli Inu', 'Marvelous NFTs', 'Marvin Inu', 'MarX', 'MaskDogeV3', 'Masterpiece Maker', 'MasterWin', 'Mata', 'Material', 'Matic Aave Interest Bearing AAVE', 'Matic Aave Interest Bearing DAI', 'Matic Aave Interest Bearing LINK', 'Matic Aave Interest Bearing USDC', 'Matic Aave Interest Bearing WETH', 'Matic DAI Stablecoin', 'Matic Launchpad', 'MaticVerse', 'MATIC (Wormhole)', 'Matrak Fan Token', 'Matrix Protocol', 'MatsuSwap', 'Mavaverse', 'Maximus', 'Maximus BASE', 'Maximus Coin', 'Maximus DAO', 'Maximus DECI', 'Maximus LUCKY', 'Maximus TEAM', 'Maximus TRIO', 'Max Crowdfund', 'Max Revive', 'MAX', 'Maya Preferred', 'MBitBooks', 'mCELO', 'mcEUR', 'MCFinance', 'Cyclub', 'McLaren F1 Fan Token', 'Mcobit', 'mCoin', 'MDsquare', 'Mean DAO', 'Meblox Protocol', 'Mechanium', 'Mecha Morphing', 'MechaShiba', 'Mechaverse', 'Mech Master', 'Meconcash', 'Medal of Honour', 'Medamon', 'Medano', 'MedicalVeda', 'Medieval Empires', 'Medifakt', 'MEDIUM', 'Medping', 'MEEB Vault (NFTX)', 'Meetin Token', 'Meetple', 'Mega Protocol', 'Megatech', 'MegaToken', 'Mei Flex', 'Me-in', 'Meishu', 'MekkaCoin', 'Meld Gold', 'Melega', 'Meli Games', 'Melody', 'Melody SGS', 'Melody SNS', 'MELONx', 'Melos Studio', 'MeMeBank', 'Memecoin', 'Meme Elon Doge Floki', 'Memeflate', 'Meme Kong', 'Memenopoly Money', 'MemePad', 'Memeverse', 'MemeWars', 'Menapay', 'Menzy', 'MeowCoin', 'Merchant', 'Meshswap Protocol', 'Meso', 'MESSIER', 'Metababy', 'MetaBeat', 'MetaBET', 'MetaBlackout', 'Metabolic', 'MetaBomb', 'MetaBUSDCoin', 'MetaCash', 'Metacoin', 'MetaContinental', 'Meta Course', 'Metacraft', 'Meta Dance', 'Metaderby', 'Metaderby Hoof', 'MetaDoctor', 'MetaDoge V2', 'MetaDubai', 'MetaFighter', 'MetaFinance', 'Meta Finance', 'Metafish', 'MetaFishing', 'MetaFlip', 'MetaFootball', 'Metagalaxy Land', 'MetaGame', 'Metagame Arena', 'MetaGaming Guild', 'MetagamZ', 'MetaGear', 'Metahamster', 'Metakings', 'Monster', 'Metal Blockchain', 'MetalSwap', 'MetaMall', 'MetaMars', 'MetaMate', 'MetaMerce', 'MetaMic E-Sports Games', 'MetamonkeyAi', 'MetaMoon', 'MetaMUI', 'Meta Musk', 'Meta MVRS', 'IONZ', 'Metanept', 'Metan Evolutions', 'MetaniaGames', 'Metano', 'Metanyx', 'MetaOctagon', 'MetaPets', 'Metaplace', 'MetaPlayers.gg', 'Metaplex', 'Meta Pool', 'MetaQ', 'MetaRacers', 'MetaRare', 'MetaReset', 'MetaRim', 'Metarix', 'Meta Ruffy', 'Meta Ruffy [OLD]', 'MetaSafeMoon', 'Meta Shiba', 'MetaShooter', 'Metaspace', 'Meta Space 2045', 'Meta Spatial', 'MetaSpets', 'Meta Sports', 'MetaSwap', 'Meta to Earn', 'MetaToken', 'Metatrone', 'Meta Utopia', 'MetaVerse Dog', 'Metaverse DNA', 'Metaverse Face', 'Metaverse Hub', 'MetaVerse-M', 'Metaverser', 'Metaverse VR', 'MetaverseX', 'metavisa', 'MetaWar Token', 'MetaWear', 'MetaWorld', 'Meta World Game', 'MetaX', 'Metaxy', 'MetaZilla', 'Meter Governance mapped by Meter.io', 'Meter Stable', 'Metis MTS', 'Metoshi', 'Metria Network', 'Metronome', 'Metti Inu', 'MEVerse', 'Mexican Peso Tether', 'MFET', 'MiaSwap', 'MicroBitcoin', 'Micro Bitcoin Finance', 'MicroChains Gov Token', 'Microcosm', 'Microsoft Tokenized Stock Defichain', 'MicroTuber', 'MIDA', 'Midas', 'Midas Miner', 'Miidas', 'Milady Vault (NFTX)', 'MileVerse', 'Military Finance', 'Milk and Butter', 'MillenniumClub Coin', 'Millennium Sapphire', 'Millimeter', 'MillionDollarBaby', 'Million Monke', 'Millonarios FC Fan Token', 'Milo Inu', 'MimbleWimbleCoin', 'Mimir', 'Mimosa', 'Minato', 'Mindfolk Wood', 'MINDOL', 'Mindsync', 'Minebase', 'MINE Network', 'Mineral', 'MinerBlox', 'MinerGate', 'MinerJoe', 'Miners of Kadenia', 'Mines of Dalarnia', 'Mini', 'Mini Baby Doge', 'MiniBTC', 'Minifootball', 'MiningNFT', 'MiniVerse Dollar', 'MiniX', 'Minswap', 'Mintcoin', 'Minter Hub', 'MiraQle', 'Mirocana', 'Mirror Finance', 'Misbloc', 'Mission Helios', 'Mithrilverse', 'Mixin', 'MixTrust', 'Miyazaki Inu', 'Mktcash', 'MktCoin', 'MLOKY', 'MM72', 'MMACoin', 'MMF Money', 'Mad Monkey Guild', 'MMS Cash', 'MMS Coin', 'MNMCoin', 'MO', 'MobileCoin', 'Mobile Crypto Pay Coin', 'Mobipad', 'Mobist', 'Mobius Finance', 'Mobius Money', 'MOBIX', 'Moby Dick', 'Mochi Inu', 'Mocossi Planet', 'Modden', 'Modex', 'MojitoSwap', 'Molecular Future', 'Mollector', 'Moments Market', 'Momentum', 'Mommy Doge', 'MoMo Key', 'Monaco Planet', 'MCO', 'MonaCoin', 'MondayClub', 'Mondo Community Coin', 'Monero-Classic', 'MoneroV', 'Moneta', 'Moneybrain BiPS', 'Moneyhero', 'MoneySwap', 'MoneyTree', 'Mongol NFT', 'Mongoose', 'MongooseCoin', 'Moniwar', 'Monkey King', 'MONNFTS', 'Monnos', 'MonoMoney', 'Mononoke Inu', 'Monopoly Meta', 'Monopoly Millionaire Control', 'MonoX', 'Monsoon Finance', 'Monster Galaxy', 'Monster of God', 'MonsterQuest', 'Monsterra MAG', 'Monsters Clan', 'Monstock', 'Moochii', 'Moola CELO AToken', 'Moola Celo Dollars', 'Moola interest bearing CREAL', 'MooMonster', 'Moonarch', 'MoonBeans', 'Moonbirds NFT Index by MEXC', 'MOONCAT Vault (NFTX)', 'Mooner', 'Moon DAO', 'Moongame', 'Mooni', 'Moonions', 'Moonlift Capital', 'Moonlight', 'Moon Maker Protocol', 'MoonPaw', 'Moonpot', 'Moon Rabbit', 'MoonRise', 'MoonRock V2', 'MoonsDust', 'Moonshot [OLD]', 'Moonshots Farm', 'MoonSwap', 'DODbase', 'Mops', 'Moreal', 'Moremoney USD', 'Morpher', 'Morpheus Swap', 'Morphswap', 'Moss Carbon Credit', 'Moss Governance', 'Mother Earth', 'Mother of Memes', 'MotionWreck Games', 'MOTIV Protocol', 'Motocoin', 'Mound', 'Mouse Haunt', 'MOVE Network', 'MovingOn Finance', 'MOVN', 'MP3', 'MsgSender', 'MShare', 'MTG Token', 'MTTCoin', 'Mu Coin', 'MuesliSwap MILK', 'MuesliSwap Yield', 'Mugen Finance', 'Mu Gold', 'Multi-Chain Capital', 'MultiPlanetary Inus', 'Multiverse', 'Munch', 'MUNDO', 'Musashi Finance', 'Muse ENT NFT', 'Mushe', 'Musk Doge', 'Musk Melon', 'Mutant Froggo', 'MUU', 'Muuu Finance', 'MvPad', 'MVS Multiverse', 'MY Ceremonial Event', 'My DeFi Legends', 'My Liquidity Partner', 'myMessage', 'Myōbu', 'MyPiggiesBank', 'MyPoints E-Commerce', 'Myriad Social', 'Myteamcoin', 'Mytheria', 'Mythos', 'MyTVchain', 'Nacho Finance', 'NADA Protocol Token', 'Nafty', 'Nahmii', 'Naka Bodhi', 'Namecoin', 'Nano Dogecoin', 'NanoMeter Bitcoin', 'Narfex', 'Nasdacoin', 'NaTaS Token', 'Natiol', 'Native Utility', 'Natural Farm Union Protocol', 'Navibration', 'Ndau', 'NDB', 'NEEO', 'NEFTiPEDiA', 'Nekocoin', 'Nemesis', 'NEMO', 'NeoFi', 'Neopin', 'Neorbit', 'NeoWorld Cash', 'Nerva', 'Nest Arcade', 'Nesten', 'Nestree', 'NETA', 'Netcoin', 'Netflix Tokenized Stock Defichain', 'Nether', 'Netm', 'Neton', 'NETZERO', 'NEUY', 'NevaCoin', 'NewB.Farm', 'New Frontier Presents', 'LandBox', 'New Paradigm Assets Solution', 'Newton Project', 'New World Order', 'New Year', 'NewYorkCoin', 'NewYork Exchange', 'Nexalt', 'NexDAX', 'NextDAO', 'Next Earth', 'Next Level', 'Next NXT', 'NEXTYPE Finance', 'Nexum', 'Nexus', 'Nexus Dubai', 'Nexuspad', 'Nexus Crypto Services', 'Nezuko Inu', 'NFT11', 'NFT2STAKE', 'NFTASCII', 'NFTBlackmarket', 'NFTBomb', 'NFTBooks', 'NFT Champions', 'NFTDAO', 'NftEyez', 'NFTFundArt', 'NFT Global Platform', 'LootBox.io', 'NFTMart', 'NFTPad', 'NFTPunk.Finance', 'NFT Starter', 'NFTStyle', 'NFT Tone', 'NiftyPays', 'NFTY DeFi Protocol', 'NiiFi', 'Ninenoble', 'Ninja Panda Inu', 'Ninja Protocol', 'Ninja Squad', 'Idle Ninja Online', 'Niobio', 'Nippon Lagoon', 'Nirvana ANA', 'Nirvana NIRV', 'Nirvana prANA', 'Nitro', 'NitroEX', 'NitroFloki', 'NKCL Classic', 'Noahs Ark Coin', 'NOA PLAY', 'Nobility', 'Noir Phygital', 'Noku', 'Nomad Exiles', 'No One', 'Nora', 'Nosana', 'Nosturis', 'NOTA', 'Notable', 'Novem Gold', 'Novem Pro', 'Numitor', 'Nuna', 'Nunu Spirits', 'nUSD (HotBit)', 'NUTGAIN', 'NutsDAO', 'Nvidia Tokenized Stock Defichain', 'NvirWorld', 'NXD Next', 'NXUSD', 'O5O', 'Oasys', 'OBRok', 'Ocavu Network', 'OccamX', 'OceanLand', 'Oceans Finance', 'Oceans Swap', 'OC Protocol', 'Octafarm', 'Octane Protocol', 'Octaplex Network', 'Octopus Protocol', 'Octorand', 'Octus Social Media Market', 'Odin Protocol', 'oDOP', 'OEC BCH', 'OEC Binance Coin', 'OEC BTC', 'OEC Chainlink', 'OEC DAI', 'OEC DOT', 'OEC ETC', 'OEC ETH', 'OEC FIL', 'OEC LTC', 'OEC SHIB', 'OEC Tron', 'OEC UNI', 'Official Crypto Cowboy', 'OFI.cash', 'OHO Blockchain', 'OIOCoin', 'Okaleido', 'Okex Fly', 'Okidoki Social', 'OkLetsPlay', 'Okratech', 'Okse', 'OKX Staked DOT1', 'OKX Staked DOT2', 'OleCoin', 'OLIVE', 'OLOID', 'Olympus v1', 'Ombre', 'Omchain', 'OMEGA', 'Omega Particle', 'OmniaVerse', 'OmotenashiCoin', 'One', 'One Basis Cash', 'Legacy oneBTC', 'oneICHI', 'OneMoon', 'ONE PIECE', 'OneRare', 'One Share', 'One World Coin', 'Ontology Gas', 'Onigiri', 'ONUS', 'Onyx', 'Oobit', 'Oogear', 'Ookeenga', 'Opalcoin', 'OpenBlox', 'OpenLeverage', 'OpenLive NFT', 'Open Platform', 'Open Proprietary Protocol', 'OpenStream World', 'OpenSwap.One', 'OpenX Locked Velo', 'OpenXSwap', 'OpenXSwap Gov. Token', 'OPES (Wrapped PE)', 'OPPA', 'OPPA Token', 'Optical Bitcoin', 'Optimus', 'Option Panda Platform', 'OPX Finance', 'Opyn Squeeth', 'OracleChain', 'OragonX', 'OraiDEX', 'ORAO Network', 'Orbis', 'Orbitau Taureum', 'Orbit Bridge Klaytn Binance Coin', 'Orbit Bridge Klaytn Ethereum', 'Orbit Bridge Klaytn MATIC', 'Orbit Bridge Klaytn Ripple', 'Orbit Bridge Klaytn USDC', 'Orbit Bridge Klaytn USD Tether', 'Orbit Bridge Klaytn Wrapped BTC', 'Orbit Chain', 'Orbitcoin', 'First On The Moon ORBIT', 'Orbler', 'Orca AVAI', 'Orca DAO', 'ORE', 'The Universal Settlement Coin', 'ORIGYN Foundation', 'Orkan', 'Orlando Chain', 'Ormeus Cash', 'OSK', 'OtherDAO', 'Ouro Governance Share', 'Ouse', 'Outrace', 'Ovato', 'OwlDAO', 'Owloper Owl', 'OWN Token', 'OxyMetaToken', 'OxyO2', 'P2P solutions foundation', 'p2p taxi', 'Pacific', 'PackagePortal', 'Packetchain', 'Pagan Gods Fur', 'Palace', 'Palantir Tokenized Stock Defichain', 'Palette', 'PalmPay', 'PalmSwap', 'PANA DAO', 'Pancake Games', 'Panda Coin', 'PandaDAO', 'Pando', 'Pandora Cash', 'Pandora Protocol', 'Pandora Spirit', 'PandoProject', 'Pando USD', 'Pangolin Songbird', 'PANTHEON X', 'Pantos', 'Panvala Pan', 'Papa Doge', 'Paragen', 'Paralink Network', 'Parallel Finance', 'Paras', 'Parrotly', 'Parrot Protocol', 'Parsl', 'Particle Technology', 'Partner Coin', 'Passive Income', 'Patron', 'PAUL', 'Pavia', 'Pawn My NFT', 'Paw V2', 'pax.world', 'PayAccept', 'PayB', 'PaybandCoin', 'PayBolt', 'Paycent', 'Paycer Protocol', 'Paycoin', 'Pay It Now', 'PayMasterCoin', 'PAYNET', 'Payz Payments', 'PDBC Defichain', 'PDX Coin', 'Peace DAO', 'Peace', 'Pea Farm', 'Peak Finance', 'Pearl Finance', 'PeerEx Network', 'Peet DeFi', 'Pegasys', 'Pegazus Finance', 'PELE Network', 'Pembrock', 'Pencil DAO', 'Penguin Karts', 'Penny Token', 'Penrose Finance', 'Peoples Punk', 'Peoplez', 'pEOS', 'PEPE.bet', 'PERL.eco', 'Perpetuum Coin', 'Perp Inu', 'Perseus Fintech', 'Pesabase', 'Petoverse', 'Petroleum OIL', 'Pexcoin', 'pFTM', 'pGALA', 'Phaeton', 'Phantasma Energy', 'Phantom Protocol', 'Phenix Finance (Polygon)', 'Philcoin', 'PhotoChromic', 'PhotonSwap', 'PHUNK Vault (NFTX)', 'Physis', 'PIAS', 'PiConnect', 'Pige Inu', 'Pigeoncoin', 'Pig Finance', 'Piggy', 'PiggyBank', 'PIGS', 'Metaland Shares', 'Pilot', 'Pi Network DeFi', 'Pinkie Inu', 'PinkPea.Finance', 'Pi Protocol', 'PirateCoin', 'Pirate Dice', 'Piratera', 'Pirate x Pirate', 'Pitbull', 'Pitbull Inu', 'Pixel Doge', 'PixelPotus', 'PixelVerse', 'Pixie', 'Pixiu Finance', 'Pizza Game', 'PIZZA', 'PlaceWar Governance', 'PLANET', 'Planet Sandbox', 'Plant Empires', 'Plant Exodus', 'Plata Network', 'PlatinCoin', 'PlatinX', 'Plato Farm', 'PlayChip', 'PlayGame', 'Playground', 'Playground Waves Floor Index', 'PlayKey', 'DAO PlayMarket 2.0', 'PlayPad', 'PLC Ultima', 'PLEARN', 'Plebe Gaming', 'Pledge', 'Plenty DeFi', 'PL^Gnet', 'Plug Chain', 'Plunge', 'PlutusFi', 'PMG Coin', 'POC Blockchain', 'Pochi Inu', 'Pocket', 'Pocoland', 'Point Coin', 'Point Network', 'PokeDX', 'Poken', 'PokerFi', 'POLAR', 'Polaris Finance Orbital', 'Polars', 'Polaris Finance Polar', 'Polka Classic', 'PolkaFantasy', 'PolkaPet World', 'NftyPlay', 'Pollchain', 'Pollen', 'Pollen Coin', 'Pollux Coin', 'Polly Finance', 'Polly DeFi Nest', 'PolyAlpha Finance', 'PolyBeta Finance', 'Polybius', 'Polycat Finance', 'Polychain Monsters Genesis', 'PolyCub', 'PolyGamma Finance', 'PolyGod', 'PolyGold', 'Polygon BabyDoge', 'PolygonFarm Finance', 'Polygon HBD', 'Polygon Hive', 'POLY Maximus', 'Poly-Peg Mdex', 'PolyPup', 'PolyQuity', 'PolyShark Finance', 'PolyShield', 'POLYSPORTS', 'Polywhale', 'Polywolf', 'POLYX', 'PolyYeld', 'PolyYield', 'PolyYork', 'PolyZap', 'Pomeranian ETH', 'Pomi', 'Pomo', 'PonziCoin', 'Pooch', 'PooCoin', 'PoodleFi', 'Poo Doge', 'PoofCash', 'Pool Party', 'POOMOON', 'PoopCoin', 'Poopsicle', 'PoorPleb', 'POP', 'Popcoin', 'POPKON', 'Poriverse', 'PornRocket', 'Porte', 'Portuma', 'PoS-32', 'Poseidon', 'Positron', 'Posschain', 'POSTHUMAN', 'Potato', 'Powabit', 'Powerful', 'Power Nodes', 'Power Of Deep Ocean', 'Power Vault', 'Powpad', 'Powswap', 'Predictcoin', 'Premio', 'Pre-Retogeum', 'Presale.World', 'Primal', 'Prime', 'Prime Chain', 'Prime Numbers', 'Primo DAO', 'Princess Striker Gem', 'Prism Protocol', 'PrivaCoin', 'PrivacySwap', 'Privapp Network', 'Privateum', 'PRiVCY', 'Privilege', 'Probably Nothing', 'Probinex', 'Project 202', 'Project CareCoin', 'ProjectMars', 'Project Quantum', 'Peak Finance Prometheus', 'Proof Of Apes', 'Proof of Degen', 'Proof Of Liquidity', 'Proof Of Memes - Ethereum', 'Proof Of Memes', 'PROPERTY BLOCKCHAIN TRADE', 'ProspectorCrane', 'ProStarter', 'Protectors of the Realm', 'Proteo DeFi', 'Protocon', 'Protofi', 'Proton Coin', 'Proton Loan', 'Province', 'Proxy', 'PRüF Protocol', 'pSTAKE Staked BNB', 'Psyche', 'PsyOptions', 'pTokens BTC', 'Pube Finance', 'PUBLISH', 'PUDGY Vault (NFTX)', 'PUFF', 'PugLife', 'PulseDoge', 'PulseDogecoin', 'PulseMarkets', 'PUMLx', 'Pundi X PURSE', 'Punk Panda Messenger', 'POW', 'Punk Shiba', 'Punk Vault (NFTX)', 'Pupazzi Punk Brise Of Sun', 'Pup Doge', 'PGPay', 'Puriever', 'Purpose', 'PUSD_Polyquity', 'Puzzle Swap', 'Pylon Eco', 'Pyram', 'GoldenPyrex', 'Pyrk', 'PYROmatic', 'Pyrrho', 'Pocketful of Quarters', 'QAtar', 'QatarGrow', 'Qatar Inu', 'Qawalla', 'QIAN Second Generation Dollar', 'QI Blockchain', 'QiSwap', 'Qitcoin', 'Qitmeer Network', 'QLINDO', 'QMCoin', 'QoWatt', 'Poseidon Network', 'Invesco QQQ Trust Defichain', 'Qredit', 'Qrkita', 'Qroni', 'Qtoken', 'Quadrans', 'Quantfury', 'Quantic', 'Quantland', 'Quasacoin', 'Qube', 'Qubit', 'Quebecoin', 'QuickChart', 'Quicksilver', 'Quickswap', 'QuickX Protocol', 'Quidax', 'Quid Ika', 'QUINCOIN', 'Quint', 'QuipuSwap Governance', 'QuizDrop', 'Quoll Finance', 'Quorum', 'R34P', 'Rabbit Halloween', 'Rabona', 'RaceFi', 'Race Kingdom', 'RAD', 'Radial Finance', 'Raider Aurum', 'Raid', 'Rainmaker Games', 'Rake Finance', 'Rally (Solana)', 'Ramestta', 'Ramifi Protocol', 'Random', 'RankerDao', 'Ran x Crypto', 'Rapidz', 'Raptor Finance', 'Rare Ball Potion', 'rASKO', 'Rasta Finance', 'Ratecoin', 'Ratio Protocol', 'Ratscoin', 'Ravelin Finance', 'Ravencoin Classic', 'Raven Dark', 'RBX', 'RC Celta de Vigo Fan Token', 'RCD Espanyol Fan Token', 'RChain', 'Reach DAO', 'ReadFi', 'Realfinance Network', 'Realio Network', 'Realital Metaverse', 'RealLink', 'Realms of Ethernity', 'Real Realm', 'Realy Metaverse', 'ReapChain', 'Reaper', 'Rebellion DAO', 'Rebellion Protocol', 'RebelTrader', 'REBorn', 'Rebus', 'Recharge', 'Recovery Right', 'REDANCOIN', 'RedFeg', 'redFireAnts', 'REDi', 'Redlight Chain', 'REDMARS', 'RED TOKEN', 'Reflecto', 'Reflecto USD', 'Reflex', 'Reforestation Mahogany', 'Relic', 'RelictumPro Genesis Token', 'RematicEGC', 'RENA Finance', 'Rens', 'ResearchCoin', 'ReSource Protocol', 'Restore Truth', 'Retawars GoldRose Token', 'rETH', 'REV3AL', 'RevivalX', 'Revoland', 'Revolotto', 'RevolutionGames', 'Revoluzion', 'Rewardeum', 'Rex', 'rHEGIC2', 'Rhinos Finance', 'Rho', 'Rice', 'RiceSwap', 'Rice Wallet', 'RichCity', 'Rich Santa', 'Ricnatum', 'Ridge', 'RIFI United', 'Rikkei Finance', 'RIMAUNANGIS', 'Rin Finance Coin', 'RING Financial', 'Riot Racers', 'Rise', 'Risecoin', 'Rise Of Nebula', 'Risu', 'Xiotri RI', 'rLoop', 'SOL Tigers Roar', 'RoboDoge Coin', 'RoboFi', 'Roboots', 'Robo', 'RocketBUSD', 'RocketCoin', 'RocketFi', 'Rocket Global Coin', 'Rocket Raccoon V2', 'Rock N Rain Coin', 'Rocky Inu', 'Rodeo Coin', 'ROGin AI', 'ROIMA INC', 'Rollbit Coin', 'MarbleVerse', 'ROND', 'RonPaulCoin', 'Rooster Battle', 'Rootstock RSK', 'Rose', 'Rotharium', 'Round X', 'Rover Inu', 'Rowan Coin', 'Roxe', 'Royal Gold', 'Rps League', 'Rubidium', 'Rubix', 'Ruby Currency', 'Ruby Play Network', 'RugZombie', 'RunBlox', 'Run&Burn', 'Rune Shards', 'RLTv2', 'Rupee', 'rUSD', 'RushCoin', 'RuufCoin', 'RxcDna', 'RXCGames', 'RYI Unity', 'Ryoma', 'Ryoshis Vision', 'Ryoshi', 'S4FE', 'Sabaka Inu', 'Sacred Tails', 'SAFE(AnWang)', 'Safe Baby Shiba', 'SafeBlast', 'Safechain', 'SafeClassic', 'SafeCookie', 'SafeEarth', 'Safegem', 'SafeLaunch', 'Safemars Protocol', 'SafeMeme', 'Safemoon 1996', 'SafeMoon Swap', 'Safemoon Zilla', 'Safe Nebula', 'SAFERMOON', 'Safe SeaFood Coin', 'SafeSwap Online', 'Safe', 'Safetrees', 'Safe Universe', 'SafeWolf', 'SafeZone [OLD]', 'SafeZone', 'Safle', 'SafuFide', 'SAFU Protocol', 'SAFUU', 'SaharaDAO', 'SaitamaX', 'Saitanobi', 'Saitoki Inu', 'Sakura Neko', 'Sakura Planet', 'Salmon', 'Salmonation', 'Saltmarble', 'SaluS', 'Samo INU', 'Samusky', 'Sandwich Network', 'Sangkara', 'Sanji Inu', 'Sanshu Inu', 'Santa Coin', 'Santa Floki v2.0', 'Santa Inu', 'SappChat', 'Sapphire', 'SatisFinance', 'SatoshiCity', 'Satoshi Island', 'SatoshiSwap', 'Satozhi', 'Saturna', 'SAUDI SHIBA INU', 'SaunaFinance', 'Save Baby Doge', 'IdleStoneage SAX', 'SaylorMoon', 'SBU Honey', 'Scaleswap', 'SCALPingcoin', 'Scarab Finance', 'Scarcity', 'ScareCrow', 'Scarface Finance', 'ScarFace Lion', 'Scary Bunny', 'Schrodinger', 'Scientia', 'Scientix', 'SC Internacional Fan Token', 'ScooterCoin', 'Scopuly', 'Scotty Beam', 'Scouthub', 'Scrap', 'Scratch', 'SCROOGE JUNIOR', 'Sculptor', 'SDAO', 'SeaChain', 'Seadog Metaverse', 'SeahorseChain', 'SeamlessSwap', 'SeanceCircle', 'SeatlabNFT', 'Secret (ERC20)', 'Secretum', 'SecretWorld', 'Secured MoonRat', 'SEDO POW', 'Seeded Network', 'Seedling', 'Seedon', 'SeedSwap', 'SeedSwap SEED', 'Seek Tiger', 'Seele', 'Seesaw', 'Seiren Games Network', 'Selfbar', 'Sensei', 'SENSO', 'Senspark', 'Sentiment', 'SEOR Network', 'Serenity', 'Serum SER', 'Setter Protocol', 'Severe Rise Games', 'S.Finance', 'Shade Cash', 'Shaman', 'Shambala', 'Shanum', 'Shard', 'Shark', 'Sheesh', 'Shelling', 'Shengweihu', 'shera [OLD]', 'SHIBA BSC', 'ShibaCash', 'Shiba Classic', 'ShibaCorgi', 'ShibaDoge', 'Shiba Elon', 'ShibaElonVerse', 'Shiba Fantom', 'Shiba Floki Inu', 'Shiba Inu Empire', 'Shiba Inu Mother', 'Shiba Inu (Wormhole)', 'Shibaken Finance', 'ShibaLite', 'Shibamon', 'Shibana', 'ShibaNFT', 'Shib Army', 'Shiba Universe', 'Shibaverse SHIVER', 'ShibElon', 'Shib Generating', 'SHIBGF', 'Shibird', 'ShibKiller', 'Shibmerican', 'Shibnobi', 'Shibonk', 'Shibtama', 'Shido', 'SHIELD', 'Shield (SLD)', 'Shield Network', 'Shield Protocol', 'Shihtzu Exchange', 'Shih Tzu Inu', 'Shikoku Inu', 'Shilly Bar', 'Shimmer', 'Shinji Inu', 'Shinshu Inu', 'Shintama', 'Shitzu', 'Shiwa', 'SHKOOBY INU', 'Shoebill Coin', 'ShoeFy', 'Shon', 'Shopdi', 'Shping', 'Shuna Inuverse', 'SiamBitcoin', 'SICash', 'SideKick', 'Sienna [ERC-20]', 'SIFU', 'Sign', 'Signed', 'Spider Tanks', 'Silvercashs', 'iShares Silver Trust Defichain', 'SIMBA Storage', 'SimbCoin Swap', 'Simple Masternode Coin', 'Simpli Finance', 'Simp', 'Simracer Coin', 'Sincere Cate', 'Sincere Doge', 'Singh', 'Single Finance', 'Sing (Avalanche)', 'Sing (BSC)', 'Sing FTM', 'Sirius Finance', 'SJWCoin', 'Skillchain', 'sKLAY', 'SKYPlay', 'skyup', 'SkyToken', 'SleepEarn Finance', 'SleepFuture', 'Slimcoin', 'Slime Royale Cupid Essence', 'Slime Royale Gold', 'SLNV2', 'Small Fish Cookie', 'Smart Block Chain City', 'SmartCoin', 'SmarterCoin', 'SmartFi', 'Smartlink', 'SmartLOX', 'Smart Marketing', 'Smart Medical Coin', 'SmartNFT', 'SmartPad', 'Smart Reward Token', 'Smart Shiba', 'Smart Wallet', 'Smart World Union', 'Smarty Pay', 'Smash Cash', 'SMD Coin', 'Smelt', 'SMG', 'Smile Coin', 'Smolting Inu', 'SMPCOIN', 'SMSCodes', 'Snake City', 'CryptoSnake', 'SnapEx', 'Snapy', 'SnowCrash', 'Snowtomb', 'Snowtomb LOT', 'SOBA', 'So Cal', 'Socaverse', 'Soccer Crypto', 'Soccer Galaxy', 'SoccerInu', 'Soccers Dog', 'SocialBlox', 'Social Capitalism', 'Social Send', 'Social Swap', 'SODA Coin', 'Sodatsu', 'SOGA Project', 'SokuSwap', 'Solana Inu', 'Solana Nut', 'SolanaPrime', 'Sola Ninja', 'Solar', 'Solar Bear', 'Solar Energy', 'Solareum Wallet', 'Solarflare', 'Solar Full Cycle', 'SOL Baby Doge', 'Solbank', 'SOLCash', 'Solcats', 'SolClout', 'SolCondoms', 'Solcubator', 'SolDate', 'Solderland', 'Solfina', 'SOL Flowers', 'Solice', 'SOLIDsex: Tokenized veSOLID', 'Solily Protocol', 'Solit', 'Solminter', 'SoloxCoin', 'Solpad Finance', 'SolPatrol Bail', 'SolPay Finance', 'SolRazr', 'Solster', 'Solum', 'Solvia', 'SOL (Wormhole)', 'SolX Gaming Guild', 'Sommelier', 'Somnium', 'SonarWatch', 'SongCoin', 'SonoCoin', 'Soonaverse', 'SoPay', 'SorachanCoin', 'SORA Synthetics', 'SORA Synthetic USD', 'Sora Validator', 'SOS Foundation', 'Soul Dogs City Bones', 'SouloCoin', 'Soulsaver', 'Souls of Meta', 'Souni', 'Sourceless', 'SouthXchange Coin', 'SOV', 'Sovi', 'SOWL', 'SpaceCorgi', 'Space Corsair Key', 'Space Crypto', 'SpaceDawgs', 'SpaceFalcon', 'SpaceGoat', 'SpaceGrime', 'SPACE-iZ', 'SpacePi', 'SpaceRobotDao', 'Space SIP', 'Space Soldier', 'Space Token BSC', 'SpaceVikings', 'SpaceY 2025', 'SparkLab', 'Sparkle Coin', 'SparksPay', 'Spartacats', 'Spartacus', 'Spartacus Money', 'Spartans', 'SPDR S&P 500 ETF Trust Defichain', 'Alias', 'SpectreSecurityCoin', 'Speed Star JOC', 'Speed Star SPEED', 'Speed Star STAR', 'Spellfire', 'Sphynx', 'SphynxFi', 'Spice Token', 'Spice DAO', 'Spillways', 'Spinada Cash', 'Spintop', 'SpookyShiba', 'SporkDAO', 'Sports 2K75', 'Sports Bet', 'Sportsverse', 'Sporty', 'Spotrax', 'Spots', 'Spring', 'Sprink', 'SpritzMoon Crypto', 'Sprouts', 'Spume', 'SQGL Vault (NFTX)', 'Square', 'Squeeze', 'Squid Game', 'Squirt Game', 'sRUNE', 'Stabilize', 'STABLE ASSET', 'Stabledoc', 'Stable One Rocket', 'Stacy', 'Stadium', 'Staked Aave Balancer Pool Token', 'Stake DAO CRV', 'Staked KCS', 'Staked NEAR', 'Staked TAROT', 'Stakemoon', 'Staker DAO', 'Stamen Tellus Token', 'Standard Euro', 'The Standard Token', 'Starbots GEAR', 'StarChain', 'Star Chain', 'StarFish OS', 'StarkMeta', 'StarLaunch', 'Starlay Finance', 'Starly', 'StarMon', 'Starpad', 'StarSharks', 'StarSharks SEA', 'Star Wars Cat', 'STARX', 'Starz', 'STA', 'SteakHut Finance', 'Stealth', 'Stellar Diamond', 'STEMX', 'Step', 'STEPG', 'Step Hero', 'Stepwatch', 'Stilton', 'stkATOM', 'Stkd SCRT', 'StonkLeague', 'StopElon', 'Storm', 'Story', 'Streakk', 'StreamCoin', 'Streamer Inu', 'STREETH', 'Street Runner', 'Stride Staked Atom', 'Strip Finance', 'Stripto', 'Strite', 'StrongNode', 'Strudel Finance', 'STRX Finance', 'Student Coin', 'Studyum', 'Style', 'Stylike Governance', 'Succession', 'Sugar Kingdom', 'Sukhavati Network', 'Summer', 'SundaeSwap', 'Sunder Goverance', 'Sunflower Finance', 'Sunflower Land', 'SunnySideUp', 'Sunrise', 'SUPA Foundation', 'Supe Infinity', 'Super Athletes Token', 'Superciety', 'Super CoinView', 'Super Hero', 'Superpower Squad', 'Super Rare Ball Potion', 'Super Shiba', 'Super Three Kingdoms', 'SuperTx Governance', 'SuperWalk', 'Supremacy', 'Supreme Finance', 'Supreme Finance HYPES', 'SupreNFT', 'Surge Inu', 'Surviving Soldiers', 'Survivor', 'Sustainable Energy', 'SwagBucks', 'S-Wallet Protocol', 'Swamp Coin', 'Swampy', 'SwapDEX', 'SWAPP Protocol', 'The Swappery', 'Swappi', 'Swapsicle', 'SwapTracker', 'Sweep Token', 'SweetToken', 'SWERVE Protocol', 'SWG', 'Swinca', 'Swing DAO', 'Swirl', 'Swiss NFT Fund', 'Swivel Governance', 'Swole Doge', 'SWTCoin', 'Swerve.fi USD', 'SYA x Flooz', 'Syfin', 'Symbol', 'Symmetric', 'SymVerse', 'SyncDAO Governance', 'Synchrony', 'MOBLAND', 'Synesis One', 'Synex Coin', 'Synthetic FTT', 'Sypool', 'TabTrader', 'Tagcoin', 'TAHU', 'tBridge', 'Tail', 'Takamaka Green Coin', 'Takeda Shin', 'Takepile', 'Tako', 'Talent', 'Talent TTX', 'Taler', 'Talkado', 'Tama Finance', 'Tangent', 'Tangle', 'TangoSwap', 'Tank Battle', 'Tank Gold', 'Tao Te Ching', 'Tap Fantasy', 'TAPME', 'Tari World', 'Tate Token', 'Taxa Network', 'Tax Haven Inu', 'TBCC', 'TCGCoin 2.0', 'τDoge', 'Team Heretics Fan Token', 'Teaswap Art', 'Techpay', 'TechTrees', 'TecraCoin ERC20', 'Teddy Dog', 'Teddy Doge', 'Teddy Doge V2', 'Teddy Dollar', 'Tegro', 'Teh Golden One', 'Telegram Inu', 'TEMCO', 'Temtum', 'Ten Best Coins', 'Tenshi', 'Tenup', 'Terareum', 'Terra Name Service', 'Terran Coin', 'TerraUSD (Wormhole)', 'Tesseract', 'Tether Avalanche Bridged (USDT.e)', 'Tether USD - Celer', 'Tether USD (PoS) (Wormhole)', 'Tether USD (Wormhole)', 'Tether USD (Wormhole from Ethereum)', 'tetuQi', 'TFS', 'TG DAO', 'Tgrade', 'The Big Five', 'The Cat Inu', 'The Citadel', 'The Coop Network', 'The Crypto You', 'The Debt Box', 'The Dragon Gate', 'The Dynasty', 'The Employment Commons Work', 'The Essential Coin', 'The Everlasting Parachain', 'The Forbidden Forest', 'TheForce Trade', 'TheFutbolCoin', 'The Genesis Block', 'The Killbox Game', 'The Landlord', 'The Legend of Deification', 'Mars Token', 'The Meebits', 'The meme finance', 'The Midas Touch Gold', 'The Monopolist', 'The Neko', 'The Next World Coin', 'THENODE', 'Theos', 'The Pablo', 'The People’s Coin', 'The Phoenix', 'The Plant Dao', 'The Protocol', 'The RandomDAO', 'The Reaper', 'The Sandbox (Wormhole)', 'TheSolanDAO', 'The Space', 'ThetaDrop', 'Thetan Arena', 'Thetan Coin', 'The Tokenized Bitcoin', 'The Troller Coin', 'The Wasted Lands', 'The Web3 Project', 'The Xenobots Project', 'The Youth Pay', 'Thor', 'Thoreum V3', 'Thors Mead', 'ThreeFold', 'Threshold Network', 'Thrupenny', 'ThunderBNB', 'Ticket Finance', 'Tiger King Coin', 'TigerQueen', 'Tikky Inu', 'TilWiki', 'Timechain Swap', 'Timeleap Finance', 'Tiny Bonez', 'Tiny Coin', 'Tiny Colony', 'TipsyCoin', 'TiraVerse', 'Titan Coin', 'Titan Hunters', 'Titania', 'Titi Financial', 'Bitcoin Clashic', 'TNC Coin', 'TNNS', 'TokenAsset', 'Tokenbank', 'TokenBot', 'Engineering Commons', 'GoPower', 'Kennel', 'Token of Fire', 'Tokenoid', 'Tokenplay', 'Token Runner', 'Token Shelby', 'Tokerr', 'Tokyo Coin', 'Tokyo AU', 'Tokyo Inu', 'Tomato Coin', 'TomCat', 'Tom Coin', 'TOM Finance', 'TomoChain ERC-20', 'TomTomCoin', 'Tonestra', 'Tongtong Coin', 'TONStarter', 'Toobcoin', 'TOOLS', 'TopManager', 'Topshelf Finance', 'Torekko', 'TORG', 'Torpedo', 'Tortuga Staked Aptos', 'Tosa Inu', 'TosiDrop', 'To The Moon Token', 'Totoro Inu', 'Toucan Protocol: Nature Carbon Tonne', 'TouchCon', 'TourismX', 'Tourist Shiba Inu', 'ToxicDeer Finance', 'ToxicDeer Share', 'Token Swap', 'Tr3zor', 'Trade Fighter', 'Traders Coin', 'Tranquility City', 'Tranquil Staked ONE', 'Transhuman Coin', 'Tratok', 'TravGoPV', 'Traxx', 'Trazable', 'TroveDAO', 'iShares 20+ Year Treasury Bond ETF Defichain', 'Treat', 'Trendsy', 'Tribalpunk Cryptoverse', 'Tribal Token', 'Tribar', 'Tribe Token', 'Trice', 'TriipMiles', 'Trips Community', 'Trism', 'TriumphX', 'Triveum', 'Trolite', 'Truebit Protocol', 'Truefeedback', 'TrustBase', 'Trusted Node', 'TrustNFT', 'Trustpay', 'TrustRise', 'TrustVerse', 'Trustworks', 'TRX3L', 'TRYC', 'Tryvium', 'Tsuki Inu', 'Tsuzuki Inu', 'TTX Metaverse', 'Turex', 'Turtles', 'TVT', 'Twelve Legions', 'Twirl Governance', 'TwitterX', 'Two Monkey Juice Bar', 'Txbit', 'Typerium', 'TYV', 'tzBTC', 'UangMarket', 'UCONetwork', 'UCX', 'MILK', 'Uhive', 'Uka Doge Coin', 'Ulanco', 'ULAND', 'Ultimate Champions', 'UltimoGG', 'Ultra Clear', 'Ultragate', 'Ultramoc', 'Ultra NFT', 'UltraSafe', 'ULTRON', 'Umbria Network', 'Umbrella Coin', 'UMetaWorld', 'Unagii Dai', 'Unagii ETH', 'Unagii Tether USD', 'Unagii USD Coin', 'Unagii Wrapped Bitcoin', 'Unbanked', 'Undead Finance', 'Unicorn Milk', 'UNICORN', 'Unifees', 'Unification', 'UniFi Protocol', 'Unilab', 'Uniqo', 'Unique Fans', 'Unique', 'Uniswap (Wormhole)', 'Unite', 'Unitech', 'United', 'United Traders', 'Unitus', 'UnityVentures', 'UNIUM', 'Universal Basic Income', 'Universal Liquidity Union', 'Universe Coin', 'Universe Island', 'UniWorld', 'UniWswap', 'UNLOCK', 'Unlock Protocol', 'Unobtanium', 'Unobtanium Tezos', 'Unique Venture clubs', 'Unreal Finance', 'Upcoin', 'UPFI Network', 'Upfire', 'Uplift', 'UpOnly', 'upShib', 'Up Spiral', 'UraniumX', 'Urubit', 'USD Coin - Celer', 'USD Coin - Nomad', 'USD Coin (PoS) (Wormhole)', 'USD Coin (Wormhole from Ethereum)', 'USD Freedom', 'USDH', 'USD Mars', 'USDtez', 'USD ZEE', 'Useless', 'USGold', 'Ushi', 'uTip', 'UvToken', 'Uzumaki Inu', 'UZUROCKS', 'V3S Share', 'Vagabond', 'Valentine Floki', 'VALOBIT', 'Vancat [OLD]', 'Vancat', 'Vanguard Real Estate Tokenized Stock Defichain', 'Vanguard S&P 500 ETF Tokenized Stock Defichain', 'Vanilla Network', 'Vanity', 'Vankia Chain', 'VaporNodes', 'Vaporwave', 'Vasco da Gama Fan Token', 'VAULT', 'Vaulty', 'vBSWAP', 'Vcash', 'Veco', 'Vectorium', 'Vee Finance', 'Vega Coin', 'VeganNation GreenCoin', 'Vegasino', 'VeggieCoin', 'VeldoraBSC', 'Velorex', 'Vemate', 'Vendetta Finance', 'Venera', 'Veno', 'Vention', 'Venus BCH', 'Venus BETH', 'Venus BTC', 'Venus BUSD', 'Venus DAI', 'Venus DOGE', 'Venus DOT', 'Venus ETH', 'Venus FIL', 'Venus LINK', 'Venus LTC', 'Venus Reward', 'Venus SXP', 'Venus USDC', 'Venus USDT', 'Venus XRP', 'Venus XVS', 'VERA Exchange', 'VeriDocGlobal', 'Veritise', 'Versailles Heroes', 'VESQ', 'Vestige', 'Vetter Skylabs', 'Vetter', 'Viacoin', 'Viagra', 'ViCA', 'VICDAO NELUM', 'VicMove', 'Victorum', 'Victory Gem', 'Vidiachange', 'VIDY', 'VidyX', 'Viking Elon', 'Vince Chain', 'VinDax Coin', 'Vip Coin', 'VIP', 'Vira-Lata Finance', 'Viral Inu', 'Virgo', 'Virtual Meta', 'Virtual Reality Game World', 'Virtual Tourist', 'Virtue', 'Virtue Poker Points', 'VisionGame', 'Vision Metaverse', 'VIST', 'Vitality', 'Vital Network', 'Vitamin Coin', 'ViteX Coin', 'Vitteey', 'Viva', 'Viva Classic', 'Vixco', 'VizslaSwap', 'VLaunch', 'VM Tycoons Businesses', 'VNDC', 'VNX Exchange', 'VNX Gold', 'Vodra', 'VOID', 'Void Games', 'Volentix', 'Voltage', 'Volt Inu [OLD]', 'VoltSwap', 'Vortex Protocol', 'Voucher ETH', 'Vow', 'Voyce', 'VPNCoin', 'VRJAM', 'VSolidus', 'Vulcano', 'Vulkania', 'Vulture Peak', 'VXXL', 'VyFinance', 'WadzPay', 'WAGMI Game', 'WAGMI On Solana', 'Waifer', 'WAIT', 'Wakanda Inu', 'WalletNow', 'Wallstreetbets.com', 'Walrus', 'Walter Inu', 'Wanaka Farm WAIRERE', 'wanBTC', 'Wanda Exchange', 'wanETH', 'wanUSDC', 'wanUSDT', 'wanXRP', 'War Bond', 'Warrior Rare Essentials', 'Wasdaq Finance', 'Waste Digital Coin', 'WatchDO', 'Wateenswap', 'Waterfall Finance', 'WATTTON', 'Waves Enterprise', 'WX.Network Token', 'WAXE', 'WayaWolfCoin', 'WaykiChain Governance Coin', 'Wrapped BNB', 'WDOT', 'WealthSecrets', 'WEB3 Inu', 'WebFlix', 'WEBFOUR', 'Weble Ecosystem', 'WebooSwap', 'WeBuy', 'WeCoOwn', 'WELD', 'Welups Blockchain', 'WemergeToken', 'Wenlambo', 'WePiggy Coin', 'WeStarter', 'WETC (HebeSwap)', 'WETH', 'Wettok Market', 'WEYU', 'Whale Maker Fund', 'WhaleRoom', 'Shredded Apes Whey', 'Whitecoin', 'White Ethereum', 'Whole Earth Coin', 'Whole Network', 'WiBX', 'Widi Soul', 'Wifedoge', 'Wiggly Finance', 'Wiki Cat', 'Wild Island Game', 'Windex', 'Windoge95', 'Wine Shares', 'WingRiders', 'WingSwap', 'WINkLink BSC', 'Winry Inu', 'Winter', 'Winterdog', 'WipeMyAss', 'Wish Finance', 'Witch Token', 'Wizardia', 'Wizard BSC', 'WIZARD Vault (NFTX)', 'WJEWEL', 'wLitiDAO', 'Wrapped Matic', 'Wodex', 'Wohlstand', 'Wojak Finance', 'WOLFCOIN', 'Wolf Game Wool', 'WOLF PUPS', 'Wolf Town Wool', 'Wolf Ventures', 'WOLFY', 'Wolverinu', 'Women Empowerment', 'WonderHero [OLD]', 'WonderHero', 'WonderHero HON', 'Woodcoin', 'Wool', 'WOOP', 'Woozoo Music', 'Wordlex', 'WOWNFT', 'WRAP Governance', 'Wrapped ADA', 'Wrapped ALGO', 'Wrapped ANATHA', 'Wrapped AR', 'Wrapped Astar', 'Wrapped AVAX', 'Wrapped BCH', 'Wrapped Bitcoin - Celer', 'Wrapped Bitcoin (Sollet)', 'Wrapped Bitcoin-Stacks', 'Wrapped BNB - Celer', 'Wrapped Brise', 'Wrapped BTT', 'Wrapped BUSD', 'Wrapped BUSD (Allbridge from BSC)', 'Wrapped CKB', 'Wrapped Conflux', 'Wrapped CRO', 'Wrapped Cube', 'Wrapped CUSD (Allbridge from Celo)', 'Wrapped ECOMI', 'Wrapped Elastos', 'Wrapped Elrond', 'Wrapped Energi', 'Wrapped Ether - Celer', 'Wrapped Ethereum (Sollet)', 'Wrapped ETHW', 'Wrapped Ever', 'Wrapped Fantom', 'Wrapped Fantom - Celer', 'Wrapped Flow', 'Wrapped HEC', 'Wrapped Huobi', 'Wrapped IoTex', 'Wrapped Kava', 'Wrapped KCS', 'Wrapped KLAY', 'Wrapped LEO', 'Wonderful Memories', 'Wrapped Metrix', 'Wrapped Moonbeam', 'Wrapped NCG', 'Wrapped Near', 'Wrapped NewYorkCoin', 'Wrapped OKT', 'Wrapped One', 'Wrapped Paycoin', 'Wrapped PKT', 'Wrapped Shiden Network', 'Wrapped Solana', 'Wrapped Staked SCR', 'Wrapped Star', 'Wrapped Statera', 'Wrapped stETH', 'Wrapped Syscoin', 'Wrapped Telos', 'Wrapped Terra Classic', 'StakerDAO Wrapped Tezos', 'Wrapped Tezos', 'Wrapped ThunderPOKT', 'Wrapped TOMO', 'Wrapped Tron', 'Wrapped TurtleCoin', 'Wrapped USDT', 'Wrapped USDT (Allbridge from Polygon)', 'Wrapped Velas', 'Wrapped Wan', 'Wrapped WDOGE', 'Wrapped xBTC', 'Wrapped XDAI', 'Wrapped XDC', 'Wrapped XMR by BTSE', 'Wrapped XRP', 'WSB.sh', 'X2', 'X7 Coin', 'X7DAO', 'X7R', 'XAI Stablecoin', 'Xave Coin', 'Xbit', 'Elastic BNB', 'XBullion', 'XCarnival', 'xcDOT', 'Xcel Defi', 'XCELTOKEN PLUS', 'XCF Token', 'XCOM', 'xCRX', 'xDai Native Comb', 'XDAO', 'XDEFI Governance', 'Xdoge', 'Xenios', 'Xeno', 'Xerium', 'XETA', 'xFarmer', 'Xfit', 'XFUEL', 'Xgold Coin', 'X-HASH', 'xHashtag', 'Xiden', 'Xiglute Coin', 'Xi', 'xJEWEL', 'XList', 'X-MASK', 'XMetaversal', 'X-Metaverse', 'Xmine', 'xNFT Protocol', 'Xodex', 'XOYCoin', 'Xpansion Game', 'Xpendium', 'xPERPS', 'XPLA', 'XPLUS Token', 'Xpool', 'X Protocol', 'xPTP', 'XQuake', 'XRdoge', 'XREATORS', 'XRPayNet', 'XRP Classic', 'XRPFarm', 'XR Shiba Inu', 'XRun', 'XSL Labs', 'xSPECTAR', 'XSwap Treasure', 'XT.com', 'XTRABYTES', 'Xtremcoin', 'XT Stablecoin XTUSD', 'X World Games', 'XX Network', 'xYSL', 'Y-5 FINANCE', 'YadaCoin', 'Yaki Gold', 'Yamp Finance', 'Yarloo', 'YASHA', 'Yawww', 'YAY Games', 'YCLUB', 'Yearn Classic Finance', 'Yearn CRV', 'Yearnlab', 'YellowHeart Protocol', 'YENTEN', 'Yeon', 'YESorNO', 'Yes World', 'YetiCoin', 'YFIONE', 'Your Futures Exchange', 'YieldBlox', 'Yieldly', 'Yield Parrot', 'Yield Yak AVAX', 'YmplePay', 'Yobit', 'Yocoin', 'YocoinYOCO', 'Yofune Nushi', 'Yogo', 'YokaiSwap', 'YooShi', 'Youbie', 'YOUcash', 'Youclout', 'YouMinter', 'YoungParrot', 'YourKiss', 'yTOFU', 'Yummy', 'Yuse', 'Yearn Compounding veCRV yVault', 'Zada', 'Zaif', 'ZakumiFi', 'ZambesiGold', 'Zam.io', 'ZAMZAM', 'ZAT Project', 'ZCore', 'ZCore Finance', 'Zebec Protocol', 'Zebra DAO', 'ZED RUN', 'Zedxion', 'Zedxion USDZ', 'Zeitcoin', 'Zelda Inu', 'ZeLoop Eco Reward', 'Zelwin', 'Zenc Coin', 'ZenSports', 'ZEON Network', 'ZEOS', '00 Token', 'Zero Tech', 'Zerozed', 'Zetacoin', 'ZEUS10000', 'Zeus Finance', 'ZFMCOIN', 'Ziktalk', 'ZilPay Wallet', 'ZilStream', 'ZIMBOCASH', 'Zin', 'ZINARI', 'Zinja', 'ZiobitX', 'Zion', 'ZionTopia', 'ZipSwap', 'zJOE', 'ZodiacsV2', 'Zombie Inu', 'Zombie Runner', 'ZOMBIE SKRAT', 'Zombie World Z', 'Zomfi', 'Zone', 'Zonecoin', 'Zone of Avoidance', 'ZooCoin', 'ZOO Crypto World', 'ZooDAO', 'Zoo', 'Zoro Inu', 'Carb0n.fi', 'ZudgeZury', 'ZUM', 'Zuna', 'ZURRENCY', 'Z Versus Project', 'Zyro', 'Zyrri']\n"
     ]
    }
   ],
   "source": [
    "import re\n",
    "logpath = os.path.join(\"/home/nuwan/workspace/rezaware/\",\n",
    "                     \"wrangler/logs/assets/etl/app.log\")\n",
    "with open(logpath,'r') as f:\n",
    "    symbol_list=[]\n",
    "    for line in f:\n",
    "        if line.startswith(\"[WARNING]\"):\n",
    "            m = re.search(\"etl - (.+?) marketcap\", line)   # interchange marketcap & failed\n",
    "            if m:\n",
    "                found = m.group(1)\n",
    "                symbol_list.append(found.replace(\"'\",\"\"))\n",
    "print(symbol_list)"
   ]
  },
  {
   "cell_type": "code",
   "execution_count": 35,
   "id": "b46f06e6",
   "metadata": {},
   "outputs": [
    {
     "name": "stdout",
     "output_type": "stream",
     "text": [
      "['KONGZ', 'MZ', 'SYL', 'GAIA', 'SYL', 'BOMUL', 'MIYA', 'SYL', 'SW', 'GAIA', 'BELLYGOM', 'SNKRZ', 'etnah', 'MTDZ', 'DOD', 'Puuvilla', 'GAIA', 'SWC', 'kongz', 'MATE', 'K3K', 'COGO', 'UKKIKKI', 'ArcheWorld_Land', 'SMILEMIYA', 'KDGE', 'VGN', 'TREASURES', 'ArcheWorld_FandomCard', 'SE7EN', 'HT', 'MTM', 'DHB', 'RBL', 'CELPI', 'GAIA', 'GRA', 'chikn', 'BIRDIE CC', 'NRS', 'KROCK', 'LCV1', 'MTG', 'APB', 'BUMZ', 'AOZHEROES', 'KLND', 'TXP', 'FOOTAGE', 'LPV1', 'KLTW', 'UKIDS', 'CT', 'PXL', 'LEMONG 3D', 'BIRDIE', 'bayc', 'SGS', 'PUNK', 'TPC', 'larva', 'KING-KINGS', 'SNKRZ OPEN BOX', '7', 'Puuvillafriends', 'NAC', 'Born Kongz', 'WTBL', 'BK', 'DMONG', 'MEE', 'LIITA', 'DUK', 'KENOME', 'KRBC', 'ROAZ', 'EMATES', 'MAC', 'KLAPES', 'MTDZPET', 'CYECV0', 'EV', 'PG', 'psd', 'CATTP', 'Roostr', 'DHBSRP', 'TMH', 'HDEC75', 'GTU', 'SLIME', 'MAYC', 'MT', 'CMPZPFP', 'RDK', 'ALAP', 'STORKS', 'KONGZ', 'BUMZ', 'MA']\n"
     ]
    }
   ],
   "source": [
    "import json\n",
    "\n",
    "logpath = os.path.join(\"/home/nuwan/workspace/rezaware/\",\n",
    "                     \"wrangler/notebooks/assets/etl/crypto/nft_list.json\")\n",
    "nft_dict=[]\n",
    "with open(logpath,'r') as f:\n",
    "    nft_list = json.load(f)\n",
    "nft_symb_list = [x['symbol'] for x in nft_list]\n",
    "print(nft_symb_list)"
   ]
  },
  {
   "cell_type": "code",
   "execution_count": 49,
   "id": "42f78198",
   "metadata": {},
   "outputs": [
    {
     "name": "stdout",
     "output_type": "stream",
     "text": [
      "['coingecko.2022-01-01.wbtc', 'coingecko.2022-07-01.obt', 'coingecko.2022-07-01.btcmt', 'coingecko.2022-04-01.nsbt', 'coingecko.2022-01-01.nsbt', 'coingecko.2022-07-01.btc2', 'coingecko.2022-01-01.bto', 'coingecko.2022-07-01.ibbtc', 'coingecko.2022-01-01.btcred', 'coingecko.2022-01-01.btse', 'coingecko.2022-01-01.btcz', 'coingecko.2022-07-01.btrfly', 'coingecko.2022-01-01.btc', 'coingecko.2022-04-01.btg', 'coingecko.2022-04-01.renbtc', 'coingecko.2022-01-01.btu', 'coingecko.2022-04-01.btx', 'coingecko.2022-04-01.btl', 'coingecko.2022-07-01.wbtc', 'coingecko.2022-04-01.obtc', 'coingecko.2022-07-01.btnt', 'coingecko.2022-07-01.xbtx', 'coingecko.2022-01-01.btcp', 'coingecko.2022-04-01.wbtc', 'coingecko.2022-01-01.hbtc', 'coingecko.2022-07-01.btc', 'coingecko.2022-04-01.xbtx', 'coingecko.2022-01-01.hbt', 'coingecko.2022-04-01.0xbtc', 'coingecko.2022-07-01.btc2x-fli', 'coingecko.2022-01-01.obt', 'coingecko.2022-01-01.yfbt', 'coingecko.2022-07-01.btb', 'coingecko.2022-07-01.btcst', 'coingecko.2022-04-01.btr', 'coingecko.2022-01-01.btg', 'coingecko.2022-07-01.nsbt', 'coingecko.2022-01-01.obtc', 'coingecko.2022-04-01.btcst', 'coingecko.2022-07-01.obtc', 'coingecko.2022-07-01.hbt', 'coingecko.2022-07-01.bta', 'coingecko.2022-04-01.ibbtc', 'coingecko.2022-01-01.btx', 'coingecko.2022-01-01.bts', 'coingecko.2022-07-01.btcz', 'coingecko.2022-04-01.bta', 'coingecko.2022-07-01.btr', 'coingecko.2022-01-01.albt', 'coingecko.2022-04-01.bto', 'coingecko.2022-01-01.btcs', 'coingecko.2022-01-01.bta', 'coingecko.2022-07-01.btc2x-fli-p', 'coingecko.2022-07-01.tbtc', 'coingecko.2022-04-01.btc', 'coingecko.2022-04-01.btu', 'coingecko.2022-04-01.btt', 'coingecko.2022-07-01.iwbtc', 'coingecko.2022-01-01.abt', 'coingecko.2022-01-01.btcone', 'coingecko.2022-04-01.btm', 'coingecko.2022-04-01.btcone', 'coingecko.2022-07-01.btcs', 'coingecko.2022-07-01.yfbt', 'coingecko.2022-07-01.btg', 'coingecko.2022-07-01.sbtc', 'coingecko.2022-04-01.nbt', 'coingecko.2022-01-01.ubt', 'coingecko.2022-07-01.btu', 'coingecko.2022-01-01.pbtc35a', 'coingecko.2022-04-01.btcred', 'coingecko.2022-07-01.btm', 'coingecko.2022-07-01.btsg', 'coingecko.2022-07-01.btcred', 'coingecko.2022-04-01.albt', 'coingecko.2022-01-01.btb', 'coingecko.2022-01-01.0xbtc', 'coingecko.2022-07-01.rbt', 'coingecko.2022-04-01.btb', 'coingecko.2022-07-01.btl', 'coingecko.2022-07-01.btcp', 'coingecko.2022-07-01.albt', 'coingecko.2022-04-01.btsg', 'coingecko.2022-07-01.bto', 'coingecko.2022-01-01.btm', 'coingecko.2022-07-01.renbtc', 'coingecko.2022-07-01.abt', 'coingecko.2022-07-01.pbtc35a', 'coingecko.2022-01-01.btc++', 'coingecko.2022-07-01.nbt', 'coingecko.2022-01-01.cwbtc', 'coingecko.2022-04-01.cwbtc', 'coingecko.2022-07-01.bts', 'coingecko.2022-07-01.0xbtc', 'coingecko.2022-04-01.btcp', 'coingecko.2022-04-01.btcmt', 'coingecko.2022-04-01.btcs', 'coingecko.2022-04-01.pbtc35a', 'coingecko.2022-04-01.obt', 'coingecko.2022-07-01.btc++', 'coingecko.2022-07-01.bkbt', 'coingecko.2022-01-01.renbtc', 'coingecko.2022-07-01.btse', 'coingecko.2022-07-01.btt', 'coingecko.2022-07-01.ibtc-fli-p', 'coingecko.2022-01-01.btc2', 'coingecko.2022-04-01.hbt', 'coingecko.2022-01-01.btcst', 'coingecko.2022-04-01.btc2', 'coingecko.2022-04-01.btc++', 'coingecko.2022-04-01.bkbt', 'coingecko.2022-07-01.ubt', 'coingecko.2022-07-01.btw', 'coingecko.2022-07-01.pbtc', 'coingecko.2022-04-01.btse', 'coingecko.2022-04-01.abt', 'coingecko.2022-07-01.hbtc', 'coingecko.2022-01-01.ibbtc', 'coingecko.2022-01-01.btl', 'coingecko.2022-07-01.btcone', 'coingecko.2022-07-01.cwbtc', 'coingecko.2022-04-01.bts', 'coingecko.2022-01-01.btc2x-fli', 'coingecko.2022-04-01.btc2x-fli', 'coingecko.2022-04-01.btw', 'coingecko.2022-01-01.xbtx', 'coingecko.2022-04-01.ubt', 'coingecko.2022-01-01.bkbt', 'coingecko.2022-04-01.btcz', 'coingecko.2022-04-01.yfbt', 'coingecko.2022-01-01.btw', 'coingecko.2022-07-01.qbt', 'coingecko.2022-04-01.btnt', 'coingecko.2022-07-01.btx', 'coingecko.2022-04-01.hbtc', 'coingecko.2022-01-01.btcmt']\n"
     ]
    }
   ],
   "source": [
    "clsNoSQL.dbType = 'mongodb'\n",
    "clsNoSQL.dbName = 'tip-historic-marketcap'\n",
    "clsNoSQL.collections = {\"HASINNAME\":'btc'}\n",
    "print(clsNoSQL.collections)"
   ]
  },
  {
   "cell_type": "code",
   "execution_count": null,
   "id": "33eda850",
   "metadata": {},
   "outputs": [],
   "source": []
  }
 ],
 "metadata": {
  "kernelspec": {
   "display_name": "Python 3 (ipykernel)",
   "language": "python",
   "name": "python3"
  },
  "language_info": {
   "codemirror_mode": {
    "name": "ipython",
    "version": 3
   },
   "file_extension": ".py",
   "mimetype": "text/x-python",
   "name": "python",
   "nbconvert_exporter": "python",
   "pygments_lexer": "ipython3",
   "version": "3.8.10"
  }
 },
 "nbformat": 4,
 "nbformat_minor": 5
}
