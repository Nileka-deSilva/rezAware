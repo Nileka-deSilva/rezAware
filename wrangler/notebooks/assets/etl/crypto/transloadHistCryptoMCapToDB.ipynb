{
 "cells": [
  {
   "cell_type": "markdown",
   "id": "72dbb7dd",
   "metadata": {},
   "source": [
    "# Document the Data Sources\n",
    "* [Coingecko python code](https://github.com/man-c/pycoingecko)"
   ]
  },
  {
   "cell_type": "code",
   "execution_count": 1,
   "id": "20d8f07e",
   "metadata": {},
   "outputs": [],
   "source": [
    "'''\n",
    "    WARNING CONTROL to display or ignore all warnings\n",
    "'''\n",
    "import warnings; warnings.simplefilter('ignore')     #switch betweeb 'default' and 'ignore'\n",
    "import traceback\n",
    "\n",
    "''' Set debug flag to view extended error messages; else set it to False to turn off debugging mode '''\n",
    "debug = True"
   ]
  },
  {
   "cell_type": "markdown",
   "id": "f13e7aeb",
   "metadata": {},
   "source": [
    "## Initialize classes"
   ]
  },
  {
   "cell_type": "code",
   "execution_count": 5,
   "id": "c0b673c0",
   "metadata": {},
   "outputs": [
    {
     "name": "stdout",
     "output_type": "stream",
     "text": [
      "All functional APP-libraries in REZAWARE-package of REZAWARE-module imported successfully!\n",
      "All assets-module etl-packages in function-CryptoMarket imported successfully!\n",
      "All functional SPARKNOSQLWLS-libraries in LOADER-package of ETL-module imported successfully!\n",
      "All functional SPARKDBWLS-libraries in LOADER-package of ETL-module imported successfully!\n",
      "sparkNoSQLwls Class initialization complete\n",
      "sparkNoSQLwls Class initialization complete\n",
      "FileWorkLoads Class initialization complete\n",
      "CryptoMarket Class initialization complete\n",
      "\n",
      "Class initialization and load complete!\n"
     ]
    }
   ],
   "source": [
    "import os\n",
    "import sys\n",
    "import configparser\n",
    "from datetime import datetime, date, timedelta\n",
    "\n",
    "sys.path.insert(1,\"/home/nuwan/workspace/rezaware/\")\n",
    "import rezaware as reza\n",
    "from wrangler.modules.assets.etl import cryptoMCExtractor as mcap\n",
    "from utils.modules.etl.loader import sparkDBwls as spark\n",
    "from utils.modules.etl.loader import sparkNoSQLwls as nosql\n",
    "\n",
    "''' restart initiate classes '''\n",
    "if debug:\n",
    "    import importlib\n",
    "    reza = importlib.reload(reza)\n",
    "    mcap = importlib.reload(mcap)\n",
    "    nosql = importlib.reload(nosql)\n",
    "    spark = importlib.reload(spark)\n",
    "    \n",
    "__desc__ = \"get crypto macket capitalization data\"\n",
    "clsNoSQL = nosql.NoSQLWorkLoads(desc=__desc__)\n",
    "# clsSpark = spark.SQLWorkLoads(desc=__desc__)\n",
    "''' optional - if not specified class will use the default values '''\n",
    "# prop_kwargs = {\"WRITE_TO_TMP\":True,   # necessary to emulate the etl dag\n",
    "#               }\n",
    "clsMC = mcap.CryptoMarkets(desc=__desc__)\n",
    "print(\"\\nClass initialization and load complete!\")"
   ]
  },
  {
   "cell_type": "markdown",
   "id": "23055593",
   "metadata": {},
   "source": [
    "## Transform collections into Spark DataFrame"
   ]
  },
  {
   "cell_type": "code",
   "execution_count": 7,
   "id": "8dddb199",
   "metadata": {
    "scrolled": false
   },
   "outputs": [
    {
     "name": "stdout",
     "output_type": "stream",
     "text": [
      "Done processing with 20 rows\n"
     ]
    }
   ],
   "source": [
    "# _data_owner='coingecko'\n",
    "__SOURCEDBNAME__ = 'tip-historic-marketcap'\n",
    "__DESTINDBNAME__ = 'tip'\n",
    "__DESTINTABLE__ = 'mcap_past'\n",
    "\n",
    "_from_dt=date(2023,3,1)\n",
    "_to_dt=date(2023,3,31)\n",
    "_kwargs = {\n",
    "#     \"SOURCEDBNAME\":'tip-historic-marketcap',\n",
    "    \"DESTINTBLNAME\":'mcap_past',\n",
    "    \"DBAUTHSOURCE\":'tip-historic-marketcap',\n",
    "#     \"COLLLIST\":['coingecko.2022-04-01.btc','coingecko.2022-04-01.etc'],\n",
    "    \"COLLLIST\":['coingecko.2023-03-01.D30.yUSD'],\n",
    "    \"HASINNAME\":['coingecko','2023-03-01'],\n",
    "#     \"FIND\":{'symbol':{'$eq':'btc'}},   # use the find key to define a filter\n",
    "    \"COLUMNSMAP\":{'_id':'uuid',\n",
    "                  'source':'data_source',\n",
    "                  'name':'asset_name',\n",
    "                  'id':'alt_asset_id',\n",
    "                  'symbol':'asset_symbol',\n",
    "                  'currency' : 'currency',\n",
    "                  'price.date':'price_date',\n",
    "                  'price.value':'price_value',\n",
    "                  'mcap.date':'mcap_date',\n",
    "                  'mcap.value':'mcap_value',\n",
    "                  'volume.date':'volume_date',\n",
    "                  'volume.size':'volume_size',\n",
    "#                   'audit.mod.by':'created_by',\n",
    "#                   'audit.mod.date':'created_dt',\n",
    "                 }\n",
    "}\n",
    "_data = clsMC.nosql_to_sql(\n",
    "    source_db=__SOURCEDBNAME__,\n",
    "#     coll_list=[],\n",
    "    destin_db=__DESTINDBNAME__,\n",
    "    table_name=__DESTINTABLE__,\n",
    "    **_kwargs,\n",
    ")"
   ]
  },
  {
   "cell_type": "code",
   "execution_count": 32,
   "id": "2848c303",
   "metadata": {},
   "outputs": [
    {
     "data": {
      "text/plain": [
       "101370"
      ]
     },
     "execution_count": 32,
     "metadata": {},
     "output_type": "execute_result"
    }
   ],
   "source": [
    "3379*30"
   ]
  },
  {
   "cell_type": "markdown",
   "id": "e9d6c601",
   "metadata": {},
   "source": [
    "## Spark MongoDB experiment"
   ]
  },
  {
   "cell_type": "code",
   "execution_count": 51,
   "id": "33eda850",
   "metadata": {},
   "outputs": [
    {
     "name": "stdout",
     "output_type": "stream",
     "text": [
      "22/12/16 15:15:19 WARN SparkSession: Using an existing Spark session; only runtime SQL configurations will take effect.\n",
      "root\n",
      " |-- _id: struct (nullable = true)\n",
      " |    |-- oid: string (nullable = true)\n",
      " |-- date: timestamp (nullable = true)\n",
      " |-- marketcap: double (nullable = true)\n",
      " |-- source: string (nullable = true)\n",
      " |-- symbol: string (nullable = true)\n",
      "\n",
      "+--------------------+-------------------+--------------------+---------+------+\n",
      "|                 _id|               date|           marketcap|   source|symbol|\n",
      "+--------------------+-------------------+--------------------+---------+------+\n",
      "|{6390a3bf9d51d344...|2022-07-01 16:00:00|3.659842243234527...|coingecko|   btc|\n",
      "|{6390a3bf9d51d344...|2022-07-02 16:00:00|3.709165299187163E11|coingecko|   btc|\n",
      "|{6390a3bf9d51d344...|2022-07-03 16:00:00| 3.67706689137568E11|coingecko|   btc|\n",
      "|{6390a3bf9d51d344...|2022-07-04 16:00:00|3.685493641350522...|coingecko|   btc|\n",
      "|{6390a3bf9d51d344...|2022-07-05 16:00:00|3.864251762627784...|coingecko|   btc|\n",
      "|{6390a3bf9d51d344...|2022-07-06 16:00:00|3.853017830657297...|coingecko|   btc|\n",
      "|{6390a3bf9d51d344...|2022-07-07 16:00:00|3.924798330706018E11|coingecko|   btc|\n",
      "|{6390a3bf9d51d344...|2022-07-08 16:00:00|4.140556385738548E11|coingecko|   btc|\n",
      "|{6390a3bf9d51d344...|2022-07-09 16:00:00|4.176902865045072...|coingecko|   btc|\n",
      "|{6390a3bf9d51d344...|2022-07-10 16:00:00|4.124598387382113E11|coingecko|   btc|\n",
      "|{6390a3bf9d51d344...|2022-07-11 16:00:00|3.982495458886735E11|coingecko|   btc|\n",
      "|{6390a3bf9d51d344...|2022-07-12 16:00:00|3.820002903223988...|coingecko|   btc|\n",
      "|{6390a3bf9d51d344...|2022-07-13 16:00:00|3.701917672905106E11|coingecko|   btc|\n",
      "|{6390a3bf9d51d344...|2022-07-14 16:00:00|3.854625665489708E11|coingecko|   btc|\n",
      "|{6390a3bf9d51d344...|2022-07-15 16:00:00|3.931043467027113...|coingecko|   btc|\n",
      "|{6390a3bf9d51d344...|2022-07-16 16:00:00|3.972852330656553...|coingecko|   btc|\n",
      "|{6390a3bf9d51d344...|2022-07-17 16:00:00|4.047056425808907...|coingecko|   btc|\n",
      "|{6390a3bf9d51d344...|2022-07-18 16:00:00|3.976606105605498E11|coingecko|   btc|\n",
      "|{6390a3bf9d51d344...|2022-07-19 16:00:00|4.257567366606174E11|coingecko|   btc|\n",
      "|{6390a3bf9d51d344...|2022-07-20 16:00:00|4.458890132511064E11|coingecko|   btc|\n",
      "+--------------------+-------------------+--------------------+---------+------+\n",
      "only showing top 20 rows\n",
      "\n"
     ]
    }
   ],
   "source": [
    "from pyspark.sql import SparkSession\n",
    "_appName = \" \".join(\n",
    "    [clsNoSQL.__app__,\n",
    "     clsNoSQL.__name__,\n",
    "     clsNoSQL.__package__,\n",
    "     clsNoSQL.__module__\n",
    "    ])   #\"PySpark MongoDB Examples\"\n",
    "_master = clsNoSQL.sparkMaster  # \"local[1]\"\n",
    "_h_ip = clsNoSQL.dbHostIP #\"127.0.0.1\"\n",
    "_type = clsNoSQL.dbType   # mongodb\n",
    "_port = clsNoSQL.dbPort   # 27017\n",
    "_format = clsNoSQL.dbFormat # mongo\n",
    "_user = clsNoSQL.dbUser   # \"farmraider\"\n",
    "_pswd = clsNoSQL.dbPswd   # \"spirittribe\"\n",
    "_auth = clsNoSQL.dbAuthSource   #\"tip-historic-marketcap\"\n",
    "_db = clsNoSQL.dbName     # \"tip-historic-marketcap\"\n",
    "_coll = 'coingecko.2022-07-01.btc'\n",
    "\n",
    "_inp_uri = f\"{_type}://{_user}:{_pswd}@{_h_ip}/{_db}.{_coll}?authSource={_auth}\"\n",
    "_out_uri = f\"{_type}://{_user}:{_pswd}@{_h_ip}/{_db}.{_coll}?authSource={_auth}\"\n",
    "\n",
    "# Create Spark session\n",
    "spark = SparkSession.builder \\\n",
    "    .appName(_appName) \\\n",
    "    .master(_master) \\\n",
    "    .config(\"spark.mongodb.input.uri\", _inp_uri) \\\n",
    "    .config(\"spark.mongodb.output.uri\", _out_uri) \\\n",
    "    .getOrCreate()\n",
    "\n",
    "# Read data from MongoDB\n",
    "df = spark.read.format(_format).load()\n",
    "df.printSchema()\n",
    "df.show()"
   ]
  },
  {
   "cell_type": "code",
   "execution_count": null,
   "id": "3fda3821",
   "metadata": {},
   "outputs": [],
   "source": []
  }
 ],
 "metadata": {
  "kernelspec": {
   "display_name": "Python 3 (ipykernel)",
   "language": "python",
   "name": "python3"
  },
  "language_info": {
   "codemirror_mode": {
    "name": "ipython",
    "version": 3
   },
   "file_extension": ".py",
   "mimetype": "text/x-python",
   "name": "python",
   "nbconvert_exporter": "python",
   "pygments_lexer": "ipython3",
   "version": "3.8.16"
  }
 },
 "nbformat": 4,
 "nbformat_minor": 5
}
