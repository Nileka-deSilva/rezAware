{
 "cells": [
  {
   "cell_type": "markdown",
   "id": "72dbb7dd",
   "metadata": {},
   "source": [
    "# Document the Data Sources\n",
    "* [Coingecko python code](https://github.com/man-c/pycoingecko)"
   ]
  },
  {
   "cell_type": "code",
   "execution_count": 8,
   "id": "20d8f07e",
   "metadata": {},
   "outputs": [],
   "source": [
    "'''\n",
    "    WARNING CONTROL to display or ignore all warnings\n",
    "'''\n",
    "import warnings; warnings.simplefilter('ignore')     #switch betweeb 'default' and 'ignore'\n",
    "import traceback\n",
    "\n",
    "''' Set debug flag to view extended error messages; else set it to False to turn off debugging mode '''\n",
    "debug = True"
   ]
  },
  {
   "cell_type": "markdown",
   "id": "f13e7aeb",
   "metadata": {},
   "source": [
    "## Initialize classes"
   ]
  },
  {
   "cell_type": "code",
   "execution_count": 9,
   "id": "c0b673c0",
   "metadata": {},
   "outputs": [
    {
     "name": "stdout",
     "output_type": "stream",
     "text": [
      "All functional APP-libraries in REZAWARE-package of REZAWARE-module imported successfully!\n",
      "All assets-module etl-packages in function-CryptoMarket imported successfully!\n",
      "All functional SPARKNOSQLWLS-libraries in LOAD-package of ETL-module imported successfully!\n",
      "sparkNoSQLwls Class initialization complete\n",
      "sparkNoSQLwls Class initialization complete\n",
      "All functional FILEWORKLOADS-libraries in LOAD-package of ETL-module imported successfully!\n",
      "FileWorkLoads Class initialization complete\n",
      "[Error]CryptoMarket function <__init__> name 'config' is not defined\n",
      "\n",
      "Class initialization and load complete!\n"
     ]
    }
   ],
   "source": [
    "import os\n",
    "import sys\n",
    "import configparser\n",
    "from datetime import datetime, date, timedelta\n",
    "\n",
    "sys.path.insert(1,\"/home/nuwan/workspace/rezaware/\")\n",
    "import rezaware as reza\n",
    "from wrangler.modules.assets.etl import cryptoMCExtractor as crypto\n",
    "# from utils.modules.etl.load import noSQLwls as nosql\n",
    "from utils.modules.etl.loader import sparkNoSQLwls as nosql\n",
    "\n",
    "''' restart initiate classes '''\n",
    "if debug:\n",
    "    import importlib\n",
    "    reza = importlib.reload(reza)\n",
    "    crypto = importlib.reload(crypto)\n",
    "    nosql = importlib.reload(nosql)\n",
    "\n",
    "clsNoSQL = nosql.NoSQLWorkLoads(desc=\"get crypto macket capitalization data\")\n",
    "''' optional - if not specified class will use the default values '''\n",
    "prop_kwargs = {\"WRITE_TO_TMP\":True,   # necessary to emulate the etl dag\n",
    "              }\n",
    "clsMC = crypto.CryptoMarkets(\n",
    "    desc='get crypto macket capitalization data', **prop_kwargs)\n",
    "print(\"\\nClass initialization and load complete!\")"
   ]
  },
  {
   "cell_type": "markdown",
   "id": "51b88589",
   "metadata": {},
   "source": [
    "## Read catalog data\n",
    "* Distinct API categories: \"asset.metadata\", \"historic.prices\", \"latest.prices\""
   ]
  },
  {
   "cell_type": "code",
   "execution_count": 28,
   "id": "a2125062",
   "metadata": {
    "scrolled": true
   },
   "outputs": [
    {
     "name": "stdout",
     "output_type": "stream",
     "text": [
      "Retrieved 3262 documents\n"
     ]
    }
   ],
   "source": [
    "from datetime import datetime\n",
    "from bson.json_util import dumps\n",
    "\n",
    "__now_dt__ = str(datetime.utcnow().isoformat())\n",
    "__as_type__ = 'dict'\n",
    "__database__ = \"tip-asset-metadata\"\n",
    "__collection__ = \"coingecko.asset.list\"\n",
    "__find__ = {\"source\":\n",
    "            {\"$regex\":'coin'},\n",
    "#             \"symbol\":{\"$in\":['mee']},\n",
    "            'asset.isactive':{\"$lte\":0.0},\n",
    "#             \"asset.isactive\":{\"$gt\" : 0}\n",
    "           }\n",
    "\n",
    "clsNoSQL.connect={'DBAUTHSOURCE':__database__}\n",
    "_data = clsNoSQL.read_documents(\n",
    "    as_type=__as_type__,\n",
    "    db_name = __database__,\n",
    "    db_coll=__collection__,\n",
    "    doc_find=__find__\n",
    ")\n",
    "if len(_data) < 5:\n",
    "    print(dumps(_data, indent=2))\n",
    "else:\n",
    "    print(\"Retrieved %d documents\" %len(_data))"
   ]
  },
  {
   "cell_type": "markdown",
   "id": "98727424",
   "metadata": {},
   "source": [
    "## Update the Crypto Metadata List"
   ]
  },
  {
   "cell_type": "code",
   "execution_count": 3,
   "id": "0d8cdc32",
   "metadata": {},
   "outputs": [
    {
     "name": "stdout",
     "output_type": "stream",
     "text": [
      "Total 10848 documents, successful insert count = 1585 & modify count = 9263\n",
      "coingecko.asset.list\n",
      "10848\n"
     ]
    }
   ],
   "source": [
    "_data_owner='coingecko'\n",
    "\n",
    "_results, _collection = clsMC.update_asset_metadata(data_owner=_data_owner)\n",
    "\n",
    "print(_collection)\n",
    "print(len(_results))"
   ]
  },
  {
   "cell_type": "markdown",
   "id": "9dbef5fe",
   "metadata": {},
   "source": [
    "## Insert/Update new datasource"
   ]
  },
  {
   "cell_type": "code",
   "execution_count": 47,
   "id": "afdb9e0d",
   "metadata": {},
   "outputs": [
    {
     "name": "stdout",
     "output_type": "stream",
     "text": [
      "Total 1 documents, duccessful insert count = 0 & modify count = 1\n"
     ]
    }
   ],
   "source": [
    "__data__ = [\n",
    "## CMC\n",
    "#     {\n",
    "#         \"owner\":'coinmarketcap',\n",
    "#         \"category\":'historic.prices',\n",
    "#         \"resource.info\":'https://coinmarketcap.com/api/documentation/v1/#tag/cryptocurrency',\n",
    "#         \"api.url\":'https://pro-api.coinmarketcap.com/v1/cryptocurrency/quotes/historical',\n",
    "#         \"api.endpoint\":'/cryptocurrency/quotes/historical',\n",
    "#         \"api.headers.accepts\":'application/json',\n",
    "#         \"api.headers.method\":'',\n",
    "#         \"api.headers.key\":'',\n",
    "#         \"api.headers.X-CMC_PRO_API_KEY\":'2f2845f0-581b-46f7-9a27-51d507826675',\n",
    "#         \"api.parameters.localization\" :'false',\n",
    "#         \"api.parameters.date\" :'{date}',\n",
    "#         \"api.parameters.cryptocurrency_type\" :'all',\n",
    "#         \"api.parameters.start\" :'1',\n",
    "#         \"api.parameters.limit\":'5000',\n",
    "#         \"api.parameters.convert\":'USD',\n",
    "#         \"api.parameters.sort\":'symbol',\n",
    "#     },\n",
    "#     {\n",
    "#         \"owner\":'coinmarketcap',\n",
    "#         \"category\":'latest.prices',\n",
    "#         \"resource.info\":'https://coinmarketcap.com/api/documentation/v1/#tag/cryptocurrency',\n",
    "#         \"api.url\":'https://pro-api.coinmarketcap.com/v1/cryptocurrency/listings/latest',\n",
    "#         \"api.endpoint\":'/cryptocurrency/*',\n",
    "#         \"api.headers.accepts\":'application/json',\n",
    "#         \"api.headers.method\":'',\n",
    "#         \"api.headers.key\":'',\n",
    "#         \"api.headers.X-CMC_PRO_API_KEY\":'2f2845f0-581b-46f7-9a27-51d507826675',\n",
    "#         \"api.parameters.localization\" :'false',\n",
    "#         \"api.parameters.start\" :'1',\n",
    "#         \"api.parameters.limit\":'5000',\n",
    "#         \"api.parameters.convert\":'USD',\n",
    "#         \"api.parameters.sort\":'symbol',\n",
    "#     },\n",
    "#     {\n",
    "#         \"owner\":'coinmarketcap',\n",
    "#         \"category\":'asset.metadata',\n",
    "#         \"resource.info\":'https://coinmarketcap.com/api/documentation/v1/#tag/cryptocurrency',\n",
    "#         \"api.url\":'https://pro-api.coinmarketcap.com/v1/cryptocurrency/map',\n",
    "#         \"api.endpoint\":'/api/v3/coins/list',\n",
    "#         \"api.headers.accepts\":'application/json',\n",
    "#         \"api.headers.method\":'',\n",
    "#         \"api.headers.X-CMC_PRO_API_KEY\":'2f2845f0-581b-46f7-9a27-51d507826675',\n",
    "#         \"api.parameters.localization\" :'',\n",
    "#         \"api.parameters.listing_status\" :'active',\n",
    "#         \"api.parameters.start\" :'1',\n",
    "#         \"api.parameters.limit\":'5000',\n",
    "#         \"api.parameters.sort\":'cmc_rank',\n",
    "#     },\n",
    "## COINGEKO\n",
    "#     {\n",
    "#         \"owner\":'coingecko',\n",
    "#         \"category\":'historic.prices',\n",
    "#         \"resource.info\":'https://www.coingecko.com/en/api/documentation',\n",
    "#         \"api.url\":'https://api.coingecko.com/api/v3/coins/{id}/market_chart/range',\n",
    "#         \"api.endpoint\":'/coins/{id}/history',\n",
    "#         \"api.headers.accepts\":'application/json',\n",
    "#         \"api.headers.method\":'',\n",
    "#         \"api.headers.key\":'',\n",
    "#         \"api.parameters.localization\" :'false',\n",
    "#         \"api.parameters.id\" :'',\n",
    "#         \"api.parameters.days\":'',\n",
    "#         \"api.parameters.vs_currency\":'usd',\n",
    "#         \"api.parameters.interval\" :'',\n",
    "#     },\n",
    "#     {\n",
    "#         \"owner\":'coingecko',\n",
    "#         \"category\":'latest.prices',\n",
    "#         \"resource.info\":'https://www.coingecko.com/en/api/documentation',\n",
    "#         \"api.url\":'https://api.coingecko.com/api/v3/coins/markets',\n",
    "#         \"api.endpoint\":'/coins/markets',\n",
    "#         \"api.headers.accepts\":'application/json',\n",
    "#         \"api.headers.method\":'',\n",
    "#         \"api.headers.key\":'',\n",
    "#         \"api.parameters.localization\" :'false',\n",
    "#         \"api.parameters.per_page\" :'250',\n",
    "#         \"api.parameters.page\" :'1',\n",
    "#         \"api.parameters.price_change_percentage\" :'1h,24h,7d,14d,30d',\n",
    "#         \"api.parameters.order\":'market_cap_desc',\n",
    "#         \"api.parameters.vs_currency\":'USD',\n",
    "#         \"api.parameters.sparkline\" :'false',\n",
    "#         \"api.parameters.sort\":'symbol',\n",
    "#     },\n",
    "#     {\n",
    "#         \"owner\":'coingecko',\n",
    "#         \"category\":'asset.metadata',\n",
    "#         \"resource.info\":'https://www.coingecko.com/en/api/documentation',\n",
    "#         \"api.url\":'https://api.coingecko.com/api/v3/coins/list',\n",
    "#         \"api.endpoint\":'/coins/list',\n",
    "#         \"api.headers.accepts\":'application/json',\n",
    "#         \"api.headers.method\":'',\n",
    "#         \"api.headers.key\":'',\n",
    "#         \"api.parameters.include_platform\" :'true',\n",
    "#     },\n",
    "]\n",
    "_uids = ['owner','category']\n",
    "_database = \"tip-data-sources\"\n",
    "_collection = \"marketcap.api\"\n",
    "\n",
    "# __keys__ = []\n",
    "clsNoSQL.connect={'DBAUTHSOURCE':_database}\n",
    "_collection = clsNoSQL.write_documents(\n",
    "    db_name=_database,\n",
    "    db_coll=_collection,\n",
    "    data=__data__,\n",
    "    uuid_list=_uids\n",
    ")\n",
    "# print([x for x in _collection])"
   ]
  },
  {
   "cell_type": "markdown",
   "id": "23055593",
   "metadata": {},
   "source": [
    "## Scripts to update with mongos"
   ]
  },
  {
   "cell_type": "code",
   "execution_count": null,
   "id": "5aaac9ba",
   "metadata": {},
   "outputs": [],
   "source": [
    "import pandas as pd\n",
    "\n",
    "_fname = os.path.join('/home/nuwan/workspace/rezaware/',\n",
    "                      'wrangler/data/assets/etl/tmp/',\n",
    "                      'assets_mcap_gt_100mil.csv')\n",
    "_asset_list = pd.read_csv(_fname)['asset_symbol'].tolist()"
   ]
  },
  {
   "cell_type": "code",
   "execution_count": 15,
   "id": "f85b8441",
   "metadata": {},
   "outputs": [
    {
     "ename": "NameError",
     "evalue": "name 'db' is not defined",
     "output_type": "error",
     "traceback": [
      "\u001b[0;31m---------------------------------------------------------------------------\u001b[0m",
      "\u001b[0;31mNameError\u001b[0m                                 Traceback (most recent call last)",
      "Input \u001b[0;32mIn [15]\u001b[0m, in \u001b[0;36m<cell line: 1>\u001b[0;34m()\u001b[0m\n\u001b[0;32m----> 1\u001b[0m \u001b[43mdb\u001b[49m\u001b[38;5;241m.\u001b[39mcoingecko\u001b[38;5;241m.\u001b[39masset\u001b[38;5;241m.\u001b[39mlist\u001b[38;5;241m.\u001b[39mupdateMany(\n\u001b[1;32m      2\u001b[0m    {\n\u001b[1;32m      3\u001b[0m        \u001b[38;5;124m\"\u001b[39m\u001b[38;5;124msource\u001b[39m\u001b[38;5;124m\"\u001b[39m :  {\u001b[38;5;124m\"\u001b[39m\u001b[38;5;124m$eq\u001b[39m\u001b[38;5;124m\"\u001b[39m:\u001b[38;5;124m'\u001b[39m\u001b[38;5;124mcoingecko\u001b[39m\u001b[38;5;124m'\u001b[39m},\n\u001b[1;32m      4\u001b[0m \u001b[38;5;66;03m#        \"asset.id\":{\"$in\":['safemoon-2', 'safutitano', 'samsunspor-fan-token', 'santos-fc-fan-token', 'sao-paulo-fc-fan-token', 'savage', 'savanna', 'save-baby-doge', 'scarecrow', 's-c-corinthians-fan-token', 'seba', 'seeds', 'sekuya', 'shibamax', 'shoot', 'shuey-rhon-inu', 'silva-token', 'smartlink', 'snovio', 'solana-ecosystem-index', 'solape-token', 'solcial', 'solidex', 'solootbox-dao', 'songbird', 'spacecowboy', 'spacerat', 'sphere-finance', 'spiritdao-ghost', 'sporkdao', 'stacktical', 'stader', 'starbots', 'stargaze', 'stobox-token', 'ston', 'straitsx-indonesia-rupiah', 'streamr', 'sugarbounce', 'swapxi-token', 'talecraft', 'team-vitality-fan-token', 'tectonic', 'temple', 'tethys-finance', 'the-crypto-you', 'the-dynasty', 'thetan-coin', 'thorus', 'timeleap-finance', 'tip-blue', 'tokenplace', 'toko', 'toucan-protocol-base-carbon-tonne', 'tradao', 'transhuman-coin', 'transient', 'travel-care-2', 'treasure-sl', 'tzbtc', 'ufc-fan-token', 'unbound-finance', 'unique-utility-token', 'unitedcrowd', 'universidad-de-chile-fan-token', 'uxd-stablecoin', 'value-finance', 'varen', 'vcgamers', 'vedao', 'vee-finance', 'veraone', 'verve', 'vesta-finance', 'vicewrld', 'visor', 'vitall-markets', 'wagmi', 'wagmi-on-solana', 'wam', 'wasder', 'weentar', 'wegro', 'we-love-gm', 'whole-network', 'wicrypt', 'world-of-defish', 'wrapped-usdt', 'xbn-community-token', 'x-consoles', 'xmooney', 'xp-network', 'xtblock-token', 'xy-finance', 'yoshi-exchange', 'zenlink-network-token', 'zignaly', 'ziot', 'zone']},\u001b[39;00m\n\u001b[1;32m      5\u001b[0m        \u001b[38;5;124m\"\u001b[39m\u001b[38;5;124masset.id\u001b[39m\u001b[38;5;124m\"\u001b[39m:{\u001b[38;5;124m\"\u001b[39m\u001b[38;5;124m$in\u001b[39m\u001b[38;5;124m\"\u001b[39m: _asset_list},\n\u001b[1;32m      6\u001b[0m    },\n\u001b[1;32m      7\u001b[0m    [\n\u001b[1;32m      8\u001b[0m      { \u001b[38;5;124m\"\u001b[39m\u001b[38;5;124m$set\u001b[39m\u001b[38;5;124m\"\u001b[39m: \n\u001b[1;32m      9\u001b[0m       { \u001b[38;5;124m\"\u001b[39m\u001b[38;5;124masset.isactive\u001b[39m\u001b[38;5;124m\"\u001b[39m: \u001b[38;5;241m0.0\u001b[39m },\n\u001b[1;32m     10\u001b[0m      }\n\u001b[1;32m     11\u001b[0m    ],\n\u001b[1;32m     12\u001b[0m     {\n\u001b[1;32m     13\u001b[0m         \u001b[38;5;124m\"\u001b[39m\u001b[38;5;124mupsert\u001b[39m\u001b[38;5;124m\"\u001b[39m:true\n\u001b[1;32m     14\u001b[0m     }\n\u001b[1;32m     15\u001b[0m )\n",
      "\u001b[0;31mNameError\u001b[0m: name 'db' is not defined"
     ]
    }
   ],
   "source": [
    "db.coingecko.asset.list.updateMany(\n",
    "   {\n",
    "       \"source\" :  {\"$eq\":'coingecko'},\n",
    "       \"name\":{\"$in\":[]},\n",
    "   },\n",
    "   [\n",
    "     { \"$set\": \n",
    "      { \"asset.isactive\": -1.0 },\n",
    "     }\n",
    "   ],\n",
    "    {\n",
    "        \"upsert\":true\n",
    "    }\n",
    ")"
   ]
  },
  {
   "cell_type": "code",
   "execution_count": null,
   "id": "7a74da17",
   "metadata": {},
   "outputs": [],
   "source": [
    "db.coingecko.asset.list.updateMany(\n",
    "   {\n",
    "       \"source\" :  {\"$eq\":'coingecko'},\n",
    "       \"asset.isactive\": {\"$eq\":0.0},\n",
    "   },\n",
    "   [\n",
    "     { \"$set\": \n",
    "      { \"asset.isactive\": 1.0 },\n",
    "     }\n",
    "   ],\n",
    "    {\n",
    "        \"upsert\":true\n",
    "    }\n",
    ")"
   ]
  },
  {
   "cell_type": "code",
   "execution_count": null,
   "id": "3a507388",
   "metadata": {},
   "outputs": [],
   "source": [
    "db.marketcap.api.update(\n",
    "   { \"category\" :  'crypto.metadata'},\n",
    "   [\n",
    "     { \"$set\": \n",
    "      { \"api.parameters.localization\": \"\" },\n",
    "     }\n",
    "   ],\n",
    "    {\n",
    "        \"upsert\":true\n",
    "    }\n",
    ")"
   ]
  }
 ],
 "metadata": {
  "kernelspec": {
   "display_name": "Python 3 (ipykernel)",
   "language": "python",
   "name": "python3"
  },
  "language_info": {
   "codemirror_mode": {
    "name": "ipython",
    "version": 3
   },
   "file_extension": ".py",
   "mimetype": "text/x-python",
   "name": "python",
   "nbconvert_exporter": "python",
   "pygments_lexer": "ipython3",
   "version": "3.8.16"
  }
 },
 "nbformat": 4,
 "nbformat_minor": 5
}
