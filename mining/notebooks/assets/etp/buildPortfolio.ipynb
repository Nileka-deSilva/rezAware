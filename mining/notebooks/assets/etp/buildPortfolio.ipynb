{
 "cells": [
  {
   "cell_type": "markdown",
   "id": "149b7738",
   "metadata": {},
   "source": [
    "# Derive Top N Portfolio"
   ]
  },
  {
   "cell_type": "code",
   "execution_count": 78,
   "id": "115dba92",
   "metadata": {},
   "outputs": [],
   "source": [
    "'''\n",
    "    WARNING CONTROL to display or ignore all warnings\n",
    "'''\n",
    "import warnings; warnings.simplefilter('ignore')     #switch betweeb 'default' and 'ignore'\n",
    "import traceback\n",
    "\n",
    "''' Set debug flag to view extended error messages; else set it to False to turn off debugging mode '''\n",
    "debug = True"
   ]
  },
  {
   "cell_type": "code",
   "execution_count": 113,
   "id": "46d5864c",
   "metadata": {},
   "outputs": [
    {
     "name": "stdout",
     "output_type": "stream",
     "text": [
      "All functional DAILYTOPN-libraries in ETP-package of ASSETS-module imported successfully!\n",
      "sparkNoSQLwls Class initialization complete\n",
      "sparkNoSQLwls Class initialization complete\n",
      "execSession Class initialization complete\n",
      "performIndex Class initialization complete\n",
      "execSession Class initialization complete\n",
      "dailyTopN Class initialization complete\n",
      "\n",
      "Class initialization and load complete!\n"
     ]
    }
   ],
   "source": [
    "import os\n",
    "import sys\n",
    "from datetime import datetime, date, timedelta\n",
    "\n",
    "sys.path.insert(1,\"/home/nuwan/workspace/rezaware/\")\n",
    "# import rezaware as reza\n",
    "# from utils.modules.etl.load import sparkDBwls as sdb\n",
    "# from utils.modules.etl.transform import sparkCleanNRich as scne\n",
    "from mining.modules.assets.etp import dailyTopN as topN\n",
    "# from utils.modules.ml.timeseries import rollingstats as stats\n",
    "\n",
    "''' restart initiate classes '''\n",
    "if debug:\n",
    "    import importlib\n",
    "    topN = importlib.reload(topN)\n",
    "    \n",
    "__desc__ = \"analyze crypto market capitalization time series data\"\n",
    "clsMPT =topN.WeightedPortfolio(desc=__desc__)\n",
    "\n",
    "print(\"\\nClass initialization and load complete!\")"
   ]
  },
  {
   "cell_type": "markdown",
   "id": "6a2f6f24",
   "metadata": {},
   "source": [
    "## Build the Weighted Portfolio\n",
    "We apply a query to select assets with mcap > 1.0 million. Any missing values are imputed with the mean value."
   ]
  },
  {
   "cell_type": "code",
   "execution_count": 117,
   "id": "79b79e94",
   "metadata": {},
   "outputs": [],
   "source": [
    "_date = date(2022,1,27)\n",
    "_portfolio = clsMPT.build_weighted_portfolio(\n",
    "    mcap_date=_date,\n",
    "    pick_asset_db_name=None,\n",
    "    mcap_ror_db_name=None,\n",
    ")"
   ]
  },
  {
   "cell_type": "code",
   "execution_count": 118,
   "id": "82fdece5",
   "metadata": {},
   "outputs": [
    {
     "name": "stdout",
     "output_type": "stream",
     "text": [
      "+------------+-------------------+----------+--------------------+------------------+\n",
      "|mcap_past_pk|          mcap_date|asset_name|          mcap_value|           log_ror|\n",
      "+------------+-------------------+----------+--------------------+------------------+\n",
      "|      194922|2022-01-27 00:00:00|      near|7946585687.461500...|0.7168222024097004|\n",
      "|      166625|2022-01-27 00:00:00|       axs|3958484505.296750...|0.7054650037199550|\n",
      "|       19803|2022-01-27 00:00:00|       omi|4405628167.189120...|1.2073031525548736|\n",
      "|       92278|2022-01-27 00:00:00|      hbar|4228933531.966320...|0.6999991520948953|\n",
      "|      113027|2022-01-27 00:00:00|       leo|3390804647.234960...|0.6946924859602940|\n",
      "|       95169|2022-01-27 00:00:00|      klay|3316715769.769650...|0.6582358088427600|\n",
      "|      210413|2022-01-27 00:00:00|       icp|4335482138.021870...|0.6940572663062533|\n",
      "|         380|2022-01-27 00:00:00|      wbtc|10399154950.87140...|0.6949849907517710|\n",
      "|       53843|2022-01-27 00:00:00|     matic|12212915722.42290...|0.7182124066481136|\n",
      "+------------+-------------------+----------+--------------------+------------------+\n",
      "\n",
      "weighted portfolio\n",
      " [{'source': 'warehouse.mcap_past', 'mcap_past_pk': [19803, 53843, 194922], 'mcap_date': datetime.datetime(2022, 1, 27, 0, 0), 'asset_name': ['omi', 'matic', 'near'], 'log_ror': [Decimal('1.2073031525548736'), Decimal('0.7182124066481136'), Decimal('0.7168222024097004')], 'weights': [0.5762828549221649, 0.14199428743463677, 0.2817228576431984], 'mcap_value': [Decimal('4405628167.1891200000000000'), Decimal('12212915722.4229000000000000'), Decimal('7946585687.4615000000000000')]}]\n"
     ]
    }
   ],
   "source": [
    "from pyspark.sql import functions as F\n",
    "\n",
    "clsMPT.data.select(\n",
    "    F.col('mcap_past_pk'),F.col('mcap_date'),\n",
    "    F.col('asset_name'),F.col('mcap_value'),F.col('log_ror'))\\\n",
    "    .sort(F.col('mcap_date'))\\\n",
    "    .show(n=10)\n",
    "\n",
    "print(\"weighted portfolio\\n\",_portfolio)"
   ]
  },
  {
   "cell_type": "markdown",
   "id": "e97eaaeb",
   "metadata": {},
   "source": [
    "## Write MPT to MongoDB\n",
    "\n",
    "* Collection name = \"mpt.\"+date(YYYY-MM-DD)\n",
    "* document structure: \\_id, date, asset, mcap.value, mcap.weight, mcap.ror"
   ]
  },
  {
   "cell_type": "code",
   "execution_count": 119,
   "id": "ccad5a43",
   "metadata": {},
   "outputs": [
    {
     "name": "stdout",
     "output_type": "stream",
     "text": [
      "Upsert 1 documents\n"
     ]
    }
   ],
   "source": [
    "_kwargs = {\n",
    "    \"DESTINDBNAME\":'tip-daily-mpt',\n",
    "    \"COLLPREFIX\" : 'mpt'\n",
    "}\n",
    "mpt_list_ = clsMPT.write_mpt_to_db(\n",
    "    portfolio_data=_portfolio,\n",
    "    cols_dict=_cols,\n",
    "    **_kwargs,\n",
    ")\n",
    "print(\"Upsert %d documents\" % len(mpt_list_))"
   ]
  },
  {
   "cell_type": "code",
   "execution_count": 6,
   "id": "76c04b9d",
   "metadata": {},
   "outputs": [
    {
     "name": "stdout",
     "output_type": "stream",
     "text": [
      "23/04/04 10:19:37 WARN Utils: Your hostname, FarmRaiderTester resolves to a loopback address: 127.0.1.1; using 192.168.124.15 instead (on interface enp2s0)\n",
      "23/04/04 10:19:37 WARN Utils: Set SPARK_LOCAL_IP if you need to bind to another address\n",
      "23/04/04 10:19:38 WARN NativeCodeLoader: Unable to load native-hadoop library for your platform... using builtin-java classes where applicable\n",
      "23/04/04 10:19:39 WARN FileSystem: Cannot load filesystem: java.util.ServiceConfigurationError: org.apache.hadoop.fs.FileSystem: com.google.cloud.hadoop.fs.gcs.GoogleHadoopFileSystem Unable to get public no-arg constructor\n",
      "23/04/04 10:19:39 WARN FileSystem: java.lang.NoClassDefFoundError: com/google/api/client/auth/oauth2/Credential\n",
      "23/04/04 10:19:39 WARN FileSystem: java.lang.ClassNotFoundException: com.google.api.client.auth.oauth2.Credential\n"
     ]
    },
    {
     "name": "stderr",
     "output_type": "stream",
     "text": [
      "Setting default log level to \"WARN\".\n",
      "To adjust logging level use sc.setLogLevel(newLevel). For SparkR, use setLogLevel(newLevel).\n"
     ]
    },
    {
     "name": "stdout",
     "output_type": "stream",
     "text": [
      "23/04/04 10:19:42 WARN Utils: Service 'SparkUI' could not bind on port 4040. Attempting port 4041.\n"
     ]
    },
    {
     "name": "stderr",
     "output_type": "stream",
     "text": [
      "                                                                                \r"
     ]
    },
    {
     "name": "stdout",
     "output_type": "stream",
     "text": [
      "Loaded 1713 rows and 17 columns\n"
     ]
    }
   ],
   "source": [
    "''' DEPRECATED moved to dailyTopN build_weighted_portfolio function'''\n",
    "_from_date = '2022-01-25'\n",
    "_to_date = '2022-01-25'\n",
    "_db_name = \"warehouse.mcap_past\"\n",
    "_kwargs={}\n",
    "# _query = \"select * from warehouse.mcap_past \"+\\\n",
    "#         f\"where mcap_date between '{_from_date}' and '{_to_date}' \"+\\\n",
    "#         f\"and mcap_value > 1000000 and asset_name in \"+\\\n",
    "#         \"('brg_x','_crdn','avme','atri','ethix','hoge','xpx','wabi','dmg','mintme','chart')\"\n",
    "_query =f\"select * from {_db_name} \"+\\\n",
    "        f\"where mcap_date between '{_from_date}' and '{_to_date}' \"+\\\n",
    "        f\"and mcap_value > 1000000 and log_ror is not null\"\n",
    "\n",
    "mcap_sdf = clsMPT.read_ror(select=_query,**_kwargs)\n",
    "\n",
    "print(\"Loaded %d rows and %d columns\" % (mcap_sdf.count(),len(mcap_sdf.columns)))"
   ]
  },
  {
   "cell_type": "code",
   "execution_count": 65,
   "id": "9263fbd8",
   "metadata": {},
   "outputs": [
    {
     "name": "stderr",
     "output_type": "stream",
     "text": [
      "                                                                                \r"
     ]
    },
    {
     "data": {
      "text/plain": [
       "[{'source': 'warehouse.mcap_past',\n",
       "  'mcap_past_pk': [81767, 207106, 141497],\n",
       "  'mcap_date': datetime.datetime(2022, 1, 25, 0, 0),\n",
       "  'asset_name': ['okb', 'atom', 'cro'],\n",
       "  'log_ror': [Decimal('0.7294887529623831'),\n",
       "   Decimal('0.7216704954131129'),\n",
       "   Decimal('0.7027959808088148')],\n",
       "  'weights': [0.874157354172054, 0.10634707169825057, 0.019495574129695534],\n",
       "  'mcap_value': [Decimal('5922009410.9717900000000000'),\n",
       "   Decimal('10596853538.6012000000000000'),\n",
       "   Decimal('9715560017.1923800000000000')]}]"
      ]
     },
     "execution_count": 65,
     "metadata": {},
     "output_type": "execute_result"
    }
   ],
   "source": [
    "''' DEPRECATED moved to dailyTopN build_weighted_portfolio function'''\n",
    "\n",
    "_cols={\n",
    "    \"PRIMARYKEY\":'mcap_past_pk',\n",
    "    \"NAMECOLUMN\":'asset_name',\n",
    "    \"DATECOLUMN\":'mcap_date',\n",
    "    \"NUMCOLUMN\" :'log_ror',\n",
    "    \"MCAPCOLUMN\":'mcap_value',\n",
    "    \"WEIGHTCOLUMN\":'weights',\n",
    "    \"MCAPSOURCE\":'source',\n",
    "}\n",
    "_l_exp_wts,_cols_dict=clsMPT.get_weighted_mpt(\n",
    "    data=_portfolio,\n",
    "    cols_dict=_cols,\n",
    "    topN=3,\n",
    "    size=5,\n",
    ")\n",
    "_l_exp_wts[:2]"
   ]
  }
 ],
 "metadata": {
  "kernelspec": {
   "display_name": "Python 3 (ipykernel)",
   "language": "python",
   "name": "python3"
  },
  "language_info": {
   "codemirror_mode": {
    "name": "ipython",
    "version": 3
   },
   "file_extension": ".py",
   "mimetype": "text/x-python",
   "name": "python",
   "nbconvert_exporter": "python",
   "pygments_lexer": "ipython3",
   "version": "3.8.10"
  }
 },
 "nbformat": 4,
 "nbformat_minor": 5
}
