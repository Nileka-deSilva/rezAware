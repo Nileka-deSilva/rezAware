{
 "cells": [
  {
   "cell_type": "markdown",
   "id": "149b7738",
   "metadata": {},
   "source": [
    "# Derive Top N Portfolio"
   ]
  },
  {
   "cell_type": "code",
   "execution_count": 1,
   "id": "115dba92",
   "metadata": {},
   "outputs": [],
   "source": [
    "'''\n",
    "    WARNING CONTROL to display or ignore all warnings\n",
    "'''\n",
    "import warnings; warnings.simplefilter('ignore')     #switch betweeb 'default' and 'ignore'\n",
    "import traceback\n",
    "\n",
    "''' Set debug flag to view extended error messages; else set it to False to turn off debugging mode '''\n",
    "debug = True"
   ]
  },
  {
   "cell_type": "code",
   "execution_count": 35,
   "id": "46d5864c",
   "metadata": {},
   "outputs": [
    {
     "name": "stdout",
     "output_type": "stream",
     "text": [
      "All functional DAILYTOPN-libraries in ETP-package of ASSETS-module imported successfully!\n",
      "All functional SPARKNOSQLWLS-libraries in LOAD-package of ETL-module imported successfully!\n",
      "sparkNoSQLwls Class initialization complete\n",
      "sparkNoSQLwls Class initialization complete\n",
      "execSession Class initialization complete\n",
      "performIndex Class initialization complete\n",
      "execSession Class initialization complete\n",
      "dailyTopN Class initialization complete\n",
      "\n",
      "Class initialization and load complete!\n"
     ]
    }
   ],
   "source": [
    "import os\n",
    "import sys\n",
    "from datetime import datetime, date, timedelta\n",
    "\n",
    "sys.path.insert(1,\"/home/nuwan/workspace/rezaware/\")\n",
    "# import rezaware as reza\n",
    "from utils.modules.etl.load import sparkNoSQLwls as nosql\n",
    "# from utils.modules.etl.load import sparkDBwls as sdb\n",
    "# from utils.modules.etl.transform import sparkCleanNRich as scne\n",
    "from mining.modules.assets.etp import dailyTopN as topN\n",
    "# from utils.modules.ml.timeseries import rollingstats as stats\n",
    "\n",
    "''' restart initiate classes '''\n",
    "if debug:\n",
    "    import importlib\n",
    "    topN = importlib.reload(topN)\n",
    "    nosql= importlib.reload(nosql)\n",
    "    \n",
    "__desc__ = \"analyze crypto market capitalization time series data\"\n",
    "clsMPT =topN.WeightedPortfolio(desc=__desc__)\n",
    "\n",
    "print(\"\\nClass initialization and load complete!\")"
   ]
  },
  {
   "cell_type": "markdown",
   "id": "e97eaaeb",
   "metadata": {},
   "source": [
    "## Build the Weighted Portfolio\n",
    "We apply a query to select assets with mcap > 1.0 million. Any missing values are imputed with the mean value.\n",
    "\n",
    "### Write MPT to MongoDB\n",
    "\n",
    "* Collection name = \"mpt.\"+date(YYYY-MM-DD)\n",
    "* document structure: \\_id, date, asset, mcap.value, mcap.weight, mcap.ror"
   ]
  },
  {
   "cell_type": "code",
   "execution_count": 36,
   "id": "79b79e94",
   "metadata": {},
   "outputs": [
    {
     "name": "stderr",
     "output_type": "stream",
     "text": [
      "                                                                                \r"
     ]
    },
    {
     "name": "stdout",
     "output_type": "stream",
     "text": [
      "Total 1 documents, successful insert count = 0 & modify count = 1\n"
     ]
    }
   ],
   "source": [
    "_date = date(2022,1,27)\n",
    "_portfolio, _ror_data = clsMPT.build_weighted_portfolio(\n",
    "    mcap_date=_date,\n",
    "    pick_asset_db_name=None,\n",
    "    ror_db_name=None,\n",
    ")"
   ]
  },
  {
   "cell_type": "markdown",
   "id": "f54a0e13",
   "metadata": {},
   "source": [
    "## Display results"
   ]
  },
  {
   "cell_type": "code",
   "execution_count": 37,
   "id": "82fdece5",
   "metadata": {},
   "outputs": [
    {
     "name": "stdout",
     "output_type": "stream",
     "text": [
      "+------------+-------------------+----------+-----------+-------------+\n",
      "|mcap_past_pk|          mcap_date|asset_name|price_value|price_log_ror|\n",
      "+------------+-------------------+----------+-----------+-------------+\n",
      "|      158144|2022-01-27 00:00:00|      wbtc|       null|         null|\n",
      "+------------+-------------------+----------+-----------+-------------+\n",
      "\n",
      "weighted portfolio\n",
      " [[{'date': '2022-01-27T00:00:00', 'asset': 'wbtc', 'mcap.weight': 1.0, 'mcap.ror': 0.6931471805599453, 'mcap.value': 8021359.81238079, 'mcap.db.fk': '158144', 'mcap.db.source': 'warehouse.mcap_past', 'audit.mod.by': 'NUWAN', 'audit.mod.dt': '2023-04-20T13:59:28', 'audit.mod.proc': 'dailyTopN-function <write_mpt_to_db>'}]]\n"
     ]
    }
   ],
   "source": [
    "from pyspark.sql import functions as F\n",
    "\n",
    "_ror_data.select(\n",
    "    F.col('mcap_past_pk'),F.col('mcap_date'),\n",
    "    F.col('asset_name'),F.col('price_value'),F.col('price_log_ror'))\\\n",
    "    .sort(F.col('price_date'))\\\n",
    "    .show(n=10)\n",
    "\n",
    "print(\"weighted portfolio\\n\",_portfolio)"
   ]
  },
  {
   "cell_type": "code",
   "execution_count": null,
   "id": "49ea5607",
   "metadata": {},
   "outputs": [],
   "source": []
  }
 ],
 "metadata": {
  "kernelspec": {
   "display_name": "Python 3 (ipykernel)",
   "language": "python",
   "name": "python3"
  },
  "language_info": {
   "codemirror_mode": {
    "name": "ipython",
    "version": 3
   },
   "file_extension": ".py",
   "mimetype": "text/x-python",
   "name": "python",
   "nbconvert_exporter": "python",
   "pygments_lexer": "ipython3",
   "version": "3.8.16"
  }
 },
 "nbformat": 4,
 "nbformat_minor": 5
}
